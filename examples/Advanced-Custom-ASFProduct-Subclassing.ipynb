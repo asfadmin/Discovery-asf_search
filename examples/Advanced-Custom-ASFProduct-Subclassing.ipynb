{
 "cells": [
  {
   "cell_type": "markdown",
   "metadata": {},
   "source": [
    "# `ASFProduct` Subclasses\n",
    "\n",
    "`ASFProduct` is the base class for all search result objects as of asf-search v7.0.0. There are several subclasses of `ASFProduct` that asf-search uses for specific platforms and product types with unique properties/functionality.\n",
    "\n",
    "Key Methods:\n",
    "- `geojson()`\n",
    "- `download()`\n",
    "- `stack()`\n",
    "- `get_stack_opts()` (returns None in `ASFProduct`, implemented by `ASFStackableProduct` subclass and its subclasses)\n",
    "- `centroid()`\n",
    "- `remotezip()` (requires asf-search's optional dependency be installed)\n",
    "- `get_property_paths()` (gets product's keywords and their paths in umm dictionary)\n",
    "- `translate_product()` (reads properties from umm, populates `properties` with associated keyword)\n",
    "- `get_sort_keys()`\n",
    "- `umm_get()`\n",
    "\n",
    "Key Properties:\n",
    "- `properties`\n",
    "- `_base_properties` (What `get_property_paths()` uses to find values in umm json `properties`)\n",
    "- `umm` (The product's umm JSON from CMR)\n",
    "- `metadata` (The product's metadata JSON from CMR)"
   ]
  },
  {
   "cell_type": "code",
   "execution_count": null,
   "metadata": {},
   "outputs": [],
   "source": [
    "import asf_search as asf\n",
    "products = ['S1A_IW_SLC__1SDV_20231226T162948_20231226T163016_051828_0642C6_272F-SLC', 'S1_185682_IW2_20210224T161634_VV_035E-BURST','S1-GUNW-D-R-087-tops-20190301_20190223-161540-20645N_18637N-PP-7a85-v2_0_1-unwrappedPhase','ALPSRP111041130-RTC_HI_RES', 'UA_newyor_03204_22005-013_22010-002_0014d_s01_L090_01-INTERFEROMETRY']\n",
    "results = asf.product_search(product_list=products)\n",
    "results"
   ]
  },
  {
   "cell_type": "markdown",
   "metadata": {},
   "source": [
    "Notice the different type in the `results` list: `S1Product`, `S1BURSTProduct`, `ARIAS1GUNWProduct`, `ALOSProduct`, and `UAVSARProduct`.\n",
    "Each of these classes are subclassed from `ASFProduct` in some way.\n",
    "\n",
    "Let's compare the `properties` of `S1Product` and `ALOSProduct`"
   ]
  },
  {
   "cell_type": "code",
   "execution_count": null,
   "metadata": {},
   "outputs": [],
   "source": [
    "s1, uavsar, s1Burst, ariaGunw, alos = results\n",
    "\n",
    "def compare_properties(lhs: asf.ASFProduct, rhs: asf.ASFProduct):\n",
    "    # Compares properties of two ASFProduct objects in a color coded table\n",
    "    # values printed in red are missing from that product type altogether\n",
    "    \n",
    "    # Color Coding\n",
    "    RED = '\\033[31m'\n",
    "    GREEN = '\\033[32m'\n",
    "    BLUE  = '\\033[34m'\n",
    "    RESET = '\\033[0m'\n",
    "\n",
    "    print(f'\\t{GREEN}{type(lhs)}{RESET}\\t{BLUE}{type(rhs)}{RESET}')\n",
    "    \n",
    "    keys = {*lhs.properties.keys(), *rhs.properties.keys()}\n",
    "    for key in keys:\n",
    "        print(f\"{key}:\\n\\t{GREEN}{lhs.properties.get(key, f'{RED}None')}{RESET}\\t{BLUE}{rhs.properties.get(key, f'{RED}None')}{RESET}\\n\")\n",
    "\n",
    "compare_properties(s1, uavsar)"
   ]
  },
  {
   "cell_type": "markdown",
   "metadata": {},
   "source": [
    "Notice a few properties (marked in red) are missing from each product properties dict. For example, `S1Product` has `pgeVersion`, while `UAVSARProduct` has `insarStackId`. \n",
    "\n",
    "Moreover, `S1Product` has one major difference with `UAVSARProduct`: `S1Product` inherits from `ASFStackableProduct` (see section below)."
   ]
  },
  {
   "cell_type": "code",
   "execution_count": null,
   "metadata": {},
   "outputs": [],
   "source": [
    "print(f\"{s1.properties['fileID']}\\n\\t{s1.baseline}\\n\")\n",
    "print(f\"{uavsar.properties['fileID']}\\n\\t{uavsar.baseline}\")"
   ]
  },
  {
   "cell_type": "markdown",
   "metadata": {},
   "source": [
    "# `ASFStackableProduct`\n",
    "\n",
    "`ASFStackableProduct` is an important `ASFProduct` subclass, from which stackable products types meant for time-series analysis are derived from. `ASFStackableProduct` has a class enum, `BaselineCalcType` that determines how asf-search will handle perpendicular stack calculations. Each subclass is in charge of how it calculates perpendicular baselines, stored in `get_perpendicular_baseline()`.\n",
    "\n",
    "Inherits: `ASFProduct`\n",
    "\n",
    "Inherited By:\n",
    "- `ALOSProduct`\n",
    "- `ERSProduct`\n",
    "- `JERSProduct`\n",
    "- `RadarsatProduct`\n",
    "- `S1Product`\n",
    "    - `S1BurstProduct`\n",
    "    - `OPERAS1Product` (Stacking currently disabled)\n",
    "    - `ARIAS1GUNWProduct` (Stacking currently disabled)\n",
    "\n",
    "Key Methods:\n",
    "- `get_baseline_calc_properties()`\n",
    "- `get_stack_opts()` (Overrides `ASFproduct`)\n",
    "- `is_valid_reference()`\n",
    "- `get_default_baseline_product_type()`\n",
    "- `get_perpendicular_baseline()`\n",
    "- `get_temporal_baseline()`\n",
    "\n",
    "Key Fields:\n",
    "- `baseline`\n",
    "\n"
   ]
  },
  {
   "cell_type": "markdown",
   "metadata": {},
   "source": [
    "`ASFStackableProduct` subclasses even have their own stack search option methods. The `ASFStackableProduct` implementation of `get_stack_opts()` returns the commonly used params for pre-calculated datasets (processing level and insar stack ID), but subclasses like `S1Product` and `S1BurstProduct` use their own approach. "
   ]
  },
  {
   "cell_type": "code",
   "execution_count": null,
   "metadata": {},
   "outputs": [],
   "source": [
    "print(f\"S1Product:\\n{s1.get_stack_opts()}\\n\")\n",
    "print(f\"S1BURSTProduct:\\n{s1Burst.get_stack_opts()}\\n\")\n",
    "print(f\"ALOSProduct:\\n{alos.get_stack_opts()}\")"
   ]
  },
  {
   "cell_type": "markdown",
   "metadata": {},
   "source": [
    "# Writing Custom `ASFProduct` Subclasses\n",
    "Because `ASFProduct` is built for subclassing, that means users can provide their own custom subclasses dervied directly from `ASFProduct` or even from a pre-existing subclass like `S1Product` or `OperaS1Product`.\n",
    "\n",
    "In this example we subclass `S1Product`, and overrides the default `ASFProduct.stack()` with one that returns a _list_ of `S1BurstProduct` stacks based on an area of interest, modify `geojson()` to return state vectors, and add a new helper method for getting raw umm CMR response!"
   ]
  },
  {
   "cell_type": "code",
   "execution_count": null,
   "metadata": {},
   "outputs": [],
   "source": [
    "import copy\n",
    "from typing import List, Type, Union, Dict\n",
    "from asf_search import ASFSearchOptions, ASFSession, ASFSearchResults\n",
    "from asf_search.ASFSearchOptions import ASFSearchOptions\n",
    "from asf_search.CMR.translate import try_parse_int\n",
    "from datetime import datetime\n",
    "\n",
    "class MyCustomS1Subclass(asf.S1Product):\n",
    "    def __init__(\n",
    "                #default ASFProduct constructor arguments\n",
    "                self, args: dict = {}, session: ASFSession = ASFSession()\n",
    "            ):\n",
    "        super().__init__(args, session)\n",
    "\n",
    "        # totaly unique property of MyCustomClass\n",
    "        self.timestamp = datetime.now()\n",
    "\n",
    "    # _base_properties is a special dict of ASFProduct that maps keywords to granule UMM json\n",
    "    # defining properties and their paths here in conjunction with `get_property_paths()` \n",
    "    # will let you easily access them in the product's `properties` dictionary\n",
    "    # see `ASFProduct.umm_get()` for explanation of pathing\n",
    "    _base_properties = {\n",
    "        # Most product types use `CENTER_ESA_FRAME` as the value for `frameNumber` (unlike S1 and ALOS, which use `FRAME_NUMBER`), \n",
    "        # this creates a new `esaFrame` property so we have that value too\n",
    "        'esaFrame': {'path': ['AdditionalAttributes', ('Name', 'CENTER_ESA_FRAME'), 'Values', 0], 'cast': try_parse_int}, #Sentinel and ALOS product alt for frameNumber (ESA_FRAME)\n",
    "    }\n",
    "\n",
    "    \"\"\" Example umm that the above pathing would map to:\n",
    "        'umm': {\n",
    "            'AdditionalAttributes': [\n",
    "                {\n",
    "                    'Name': 'CENTER_ESA_FRAME',\n",
    "                    \"Values\": ['1300'] \n",
    "                },\n",
    "                ...\n",
    "            ],\n",
    "            ...\n",
    "        }\n",
    "    \"\"\"\n",
    "\n",
    "    # CUSTOM CLASS METHODS\n",
    "    # Return\n",
    "    def as_umm_json(self) -> Dict:\n",
    "        return { 'umm': self.umm, 'meta': self.meta }\n",
    "    \n",
    "    # CLASS OVERRIDE METHODS\n",
    "    \n",
    "    # This override of `geojson()` includes the product's state vectors in the final geojson output, \n",
    "    # along with a custom class field timestamp and what version of asf-search was used at runtime\n",
    "    def geojson(self) -> dict:\n",
    "        output = super().geojson()\n",
    "\n",
    "        output['properties']['stateVectors'] = self.get_state_vectors()\n",
    "        output['properties']['timestamp'] = str(self.timestamp)\n",
    "        output['properties']['ASFSearchVersion'] = asf.__version__\n",
    "        return output\n",
    "    \n",
    "    # This method is used internally by `ASFProduct.translate_product()` \n",
    "    # to traverse the granule UMM for each property's corresponding values\n",
    "    @staticmethod\n",
    "    def get_property_paths() -> dict:\n",
    "        return {\n",
    "            **asf.S1Product.get_property_paths(),\n",
    "            **MyCustomS1Subclass._base_properties\n",
    "        }\n",
    "    \n",
    "    # ASFProduct.stack() normally stacks the current product\n",
    "    # in this version we search for every SLC-BURST product that\n",
    "    # overlaps the given area with the same source scene, \n",
    "    # and return a list of burst stacks\n",
    "    # if no bursts are found, we fall back to building a regular stack\n",
    "    def stack(self, \n",
    "                opts: ASFSearchOptions = None,\n",
    "                useSubclass: Type[asf.ASFProduct] = None,\n",
    "                aoi: str = None\n",
    "            ) -> List:\n",
    "\n",
    "        bursts = asf.search(\n",
    "            groupID=self.properties['groupID'], \n",
    "            processingLevel=asf.PRODUCT_TYPE.BURST,\n",
    "            intersectsWith=aoi if aoi is not None else opts.intersectsWith\n",
    "        )\n",
    "        \n",
    "        return [burst.stack(opts=opts) for burst in bursts]"
   ]
  },
  {
   "cell_type": "code",
   "execution_count": null,
   "metadata": {},
   "outputs": [],
   "source": [
    "\n",
    "customS1SubclassProduct = MyCustomS1Subclass({'umm': s1.umm, 'meta': s1.meta}, session=s1.session)\n",
    "\n",
    "customS1SubclassProduct.geojson()"
   ]
  },
  {
   "cell_type": "markdown",
   "metadata": {},
   "source": [
    "Notice the `timestamp`, `ASFSearchVersion`, `stateVectors`, and `esaFrame` fields in the output from `geojson()`.\n",
    "Below is a comparison of properties between the built-in `S1Product` and our `customS1SubclassProduct`."
   ]
  },
  {
   "cell_type": "code",
   "execution_count": null,
   "metadata": {},
   "outputs": [],
   "source": [
    "compare_properties(s1, customS1SubclassProduct)"
   ]
  },
  {
   "cell_type": "code",
   "execution_count": null,
   "metadata": {},
   "outputs": [],
   "source": [
    "palmer_to_anchorage = 'LINESTRING(-149.1052 61.6054,-149.5376 61.3162,-149.8764 61.2122)'\n",
    "customStack = customS1SubclassProduct.stack(aoi=palmer_to_anchorage)\n",
    "customStack"
   ]
  },
  {
   "cell_type": "markdown",
   "metadata": {},
   "source": [
    "Notice instead of a stack of `MyCustomS1Subclass` products we have a list of `S1BURSTProduct` stacks!\n",
    "Below is a breakdown of this list of stacks:"
   ]
  },
  {
   "cell_type": "code",
   "execution_count": null,
   "metadata": {},
   "outputs": [],
   "source": [
    "from typing import List\n",
    "\n",
    "def view_stack_of_stacks(stack_of_stacks: List):\n",
    "    print(f'Found {len(stack_of_stacks)} SLC-BURST stacks over AOI, stack lengths:')\n",
    "    for stack_idx, stack in enumerate(stack_of_stacks):\n",
    "        print(f\"\\t{stack_idx+1}:\\t{len(stack)} SLC-BURSTs \\t(Full Burst ID: {stack[-1].properties['burst']['fullBurstID']}, polarization: {stack[-1].properties['polarization']})\")\n",
    "\n",
    "view_stack_of_stacks(customStack)"
   ]
  },
  {
   "cell_type": "markdown",
   "metadata": {},
   "source": [
    "# Using Custom `ASFProduct` Subclasses in Baseline Search\n",
    "\n",
    "There may be instances where you want to build a spatio-temporal baseline stack from a reference of a custom subclass. `stack_from_id()` and `ASFProduct.stack()` support this via the `ASFProductSubclass` keyword."
   ]
  },
  {
   "cell_type": "code",
   "execution_count": null,
   "metadata": {},
   "outputs": [],
   "source": [
    "opts = asf.ASFSearchOptions(intersectsWith=palmer_to_anchorage) # our custom class will be able to use our aoi this way\n",
    "\n",
    "customSubclassStack = asf.stack_from_id('S1A_IW_SLC__1SDV_20231226T162948_20231226T163016_051828_0642C6_272F-SLC', opts=opts, useSubclass=MyCustomS1Subclass)\n",
    "\n",
    "view_stack_of_stacks(customSubclassStack)"
   ]
  }
 ],
 "metadata": {
  "kernelspec": {
   "display_name": "asf-search-env-current",
   "language": "python",
   "name": "python3"
  },
  "language_info": {
   "codemirror_mode": {
    "name": "ipython",
    "version": 3
   },
   "file_extension": ".py",
   "mimetype": "text/x-python",
   "name": "python",
   "nbconvert_exporter": "python",
   "pygments_lexer": "ipython3",
   "version": "3.10.12"
  }
 },
 "nbformat": 4,
 "nbformat_minor": 2
}
