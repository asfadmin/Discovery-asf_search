{
 "cells": [
  {
   "cell_type": "code",
   "execution_count": 1,
   "id": "7fa9e873",
   "metadata": {},
   "outputs": [],
   "source": [
    "%load_ext autoreload\n",
    "%autoreload 2"
   ]
  },
  {
   "cell_type": "code",
   "execution_count": 2,
   "id": "52144455-af61-4f36-b35b-57a04683ebb1",
   "metadata": {
    "scrolled": true,
    "tags": []
   },
   "outputs": [],
   "source": [
    "import asf_search as asf\n",
    "import logging\n",
    "\n",
    "# asf.constants.INTERNAL.CMR_TIMEOUT = 90\n",
    "# asf.ASF_LOGGER.setLevel(logging.DEBUG)\n",
    "\n",
    "results = asf.product_search('S1A_IW_SLC__1SDV_20220215T225119_20220215T225146_041930_04FE2E_9252-SLC')\n",
    "# results = asf.product_search('S1_181296_IW1_20220219T125501_VV_10AF-BURST')\n",
    "reference = results[0]\n",
    "\n",
    "args = asf.ASFSearchOptions(\n",
    "    **{\"start\": '2022-02-10', \"end\": '2022-07-01'}\n",
    ")\n",
    "s = reference.stack(args)"
   ]
  },
  {
   "cell_type": "markdown",
   "id": "8a0920dc",
   "metadata": {},
   "source": [
    "### Create a Pair object from 2 products"
   ]
  },
  {
   "cell_type": "code",
   "execution_count": 3,
   "id": "2b27e862",
   "metadata": {},
   "outputs": [
    {
     "name": "stdout",
     "output_type": "stream",
     "text": [
      "pair.ref.properties['sceneName']: S1A_IW_SLC__1SDV_20220215T225119_20220215T225146_041930_04FE2E_9252\n",
      "pair.ref_date: 2022-02-15\n",
      "\n",
      "pair.sec.properties['sceneName']: S1A_IW_SLC__1SDV_20220311T225119_20220311T225146_042280_050A1F_B99E\n",
      "pair.sec_date: 2022-03-11\n",
      "\n",
      "pair.temporal: 24 days, 0:00:00\n",
      "pair.perpendicular: -73\n"
     ]
    }
   ],
   "source": [
    "pair = asf.Pair(reference, s[2])\n",
    "\n",
    "print(f\"pair.ref.properties['sceneName']: {pair.ref.properties['sceneName']}\")\n",
    "print(f\"pair.ref_date: {pair.ref_date}\\n\")\n",
    "\n",
    "print(f\"pair.sec.properties['sceneName']: {pair.sec.properties['sceneName']}\")\n",
    "print(f\"pair.sec_date: {pair.sec_date}\\n\")\n",
    "\n",
    "print(f\"pair.temporal: {pair.temporal}\")\n",
    "print(f\"pair.perpendicular: {pair.perpendicular}\")"
   ]
  },
  {
   "cell_type": "markdown",
   "id": "d599ee41",
   "metadata": {},
   "source": [
    "### Check the estimated coherence of the pair"
   ]
  },
  {
   "cell_type": "code",
   "execution_count": 4,
   "id": "9b85de54",
   "metadata": {},
   "outputs": [
    {
     "data": {
      "text/plain": [
       "16.952704858593183"
      ]
     },
     "execution_count": 4,
     "metadata": {},
     "output_type": "execute_result"
    }
   ],
   "source": [
    "pair.estimate_s1_mean_coherence()"
   ]
  },
  {
   "cell_type": "markdown",
   "id": "77bb1b26",
   "metadata": {},
   "source": [
    "### Create a new pair with a long temporal baseline"
   ]
  },
  {
   "cell_type": "code",
   "execution_count": 5,
   "id": "1a0c0ca1",
   "metadata": {},
   "outputs": [
    {
     "name": "stdout",
     "output_type": "stream",
     "text": [
      "long_pair.temporal: 120 days, 0:00:00\n"
     ]
    }
   ],
   "source": [
    "long_pair = pair = asf.Pair(reference, s[10])\n",
    "print(f\"long_pair.temporal: {long_pair.temporal}\")"
   ]
  },
  {
   "cell_type": "markdown",
   "id": "2c266f26",
   "metadata": {},
   "source": [
    "### Since the temporal baseline is greater than 48, an exception is raised when checking coherence"
   ]
  },
  {
   "cell_type": "code",
   "execution_count": 6,
   "id": "9d66a395",
   "metadata": {},
   "outputs": [
    {
     "ename": "CoherenceEstimationError",
     "evalue": "Coherence dataset includes temporal baselines up to 48 days.\n                   Temporal baseline: 120 days",
     "output_type": "error",
     "traceback": [
      "\u001b[0;31m---------------------------------------------------------------------------\u001b[0m",
      "\u001b[0;31mCoherenceEstimationError\u001b[0m                  Traceback (most recent call last)",
      "Cell \u001b[0;32mIn[6], line 1\u001b[0m\n\u001b[0;32m----> 1\u001b[0m \u001b[43mlong_pair\u001b[49m\u001b[38;5;241;43m.\u001b[39;49m\u001b[43mestimate_s1_mean_coherence\u001b[49m\u001b[43m(\u001b[49m\u001b[43m)\u001b[49m\n",
      "File \u001b[0;32m~/Discovery-asf_search/asf_search/Pair.py:92\u001b[0m, in \u001b[0;36mPair.estimate_s1_mean_coherence\u001b[0;34m(self)\u001b[0m\n\u001b[1;32m     89\u001b[0m \u001b[38;5;28;01mif\u001b[39;00m temporal \u001b[38;5;241m>\u001b[39m \u001b[38;5;241m48\u001b[39m:\n\u001b[1;32m     90\u001b[0m     msg \u001b[38;5;241m=\u001b[39m (\u001b[38;5;124mf\u001b[39m\u001b[38;5;124m\"\"\"\u001b[39m\u001b[38;5;124mCoherence dataset includes temporal baselines up to 48 days.\u001b[39m\n\u001b[1;32m     91\u001b[0m \u001b[38;5;124m           Temporal baseline: \u001b[39m\u001b[38;5;132;01m{\u001b[39;00m\u001b[38;5;28mself\u001b[39m\u001b[38;5;241m.\u001b[39mtemporal\u001b[38;5;241m.\u001b[39mdays\u001b[38;5;132;01m}\u001b[39;00m\u001b[38;5;124m days\u001b[39m\u001b[38;5;124m\"\"\"\u001b[39m)\n\u001b[0;32m---> 92\u001b[0m     \u001b[38;5;28;01mraise\u001b[39;00m CoherenceEstimationError(msg)\n\u001b[1;32m     94\u001b[0m uri \u001b[38;5;241m=\u001b[39m \u001b[38;5;124mf\u001b[39m\u001b[38;5;124m\"\u001b[39m\u001b[38;5;124ms3://asf-search-coh/global_coh_100ppd_11367x4367/Global_\u001b[39m\u001b[38;5;132;01m{\u001b[39;00mseason\u001b[38;5;132;01m}\u001b[39;00m\u001b[38;5;124m_vv_COH\u001b[39m\u001b[38;5;132;01m{\u001b[39;00mtemporal\u001b[38;5;132;01m}\u001b[39;00m\u001b[38;5;124m_100ppd.zarr\u001b[39m\u001b[38;5;124m\"\u001b[39m\n\u001b[1;32m     95\u001b[0m coords \u001b[38;5;241m=\u001b[39m \u001b[38;5;28mself\u001b[39m\u001b[38;5;241m.\u001b[39mref\u001b[38;5;241m.\u001b[39mgeometry[\u001b[38;5;124m'\u001b[39m\u001b[38;5;124mcoordinates\u001b[39m\u001b[38;5;124m'\u001b[39m][\u001b[38;5;241m0\u001b[39m]\n",
      "\u001b[0;31mCoherenceEstimationError\u001b[0m: Coherence dataset includes temporal baselines up to 48 days.\n                   Temporal baseline: 120 days"
     ]
    }
   ],
   "source": [
    "long_pair.estimate_s1_mean_coherence()"
   ]
  },
  {
   "cell_type": "markdown",
   "id": "50c465f1",
   "metadata": {},
   "source": [
    "### Demonstrate pair equivalence\n",
    "\n",
    "Two pairs are equal if they both share the same reference and secondary dates."
   ]
  },
  {
   "cell_type": "code",
   "execution_count": 7,
   "id": "5df76460",
   "metadata": {},
   "outputs": [
    {
     "name": "stdout",
     "output_type": "stream",
     "text": [
      "a.ref_date: 2022-02-15, a.sec_date: 2022-06-15\n",
      "b.ref_date: 2022-02-15, b.sec_date: 2022-06-15\n",
      "c.ref_date: 2022-02-15, c.sec_date: 2022-02-27\n",
      "a == b: True\n",
      "a == c: False\n"
     ]
    }
   ],
   "source": [
    "from copy import deepcopy\n",
    "\n",
    "a = deepcopy(pair)\n",
    "b = deepcopy(pair)\n",
    "c = asf.Pair(reference, s[1])\n",
    "print(f\"a.ref_date: {a.ref_date}, a.sec_date: {a.sec_date}\")\n",
    "print(f\"b.ref_date: {b.ref_date}, b.sec_date: {b.sec_date}\")\n",
    "print(f\"c.ref_date: {c.ref_date}, c.sec_date: {c.sec_date}\")\n",
    "print(f\"a == b: {a == b}\")\n",
    "print(f\"a == c: {a == c}\")"
   ]
  },
  {
   "cell_type": "code",
   "execution_count": null,
   "id": "5cf40cf4-6fb4-4b1b-b66a-61c8af5e5aed",
   "metadata": {},
   "outputs": [],
   "source": []
  }
 ],
 "metadata": {
  "kernelspec": {
   "display_name": "Python 3 (ipykernel)",
   "language": "python",
   "name": "python3"
  },
  "language_info": {
   "codemirror_mode": {
    "name": "ipython",
    "version": 3
   },
   "file_extension": ".py",
   "mimetype": "text/x-python",
   "name": "python",
   "nbconvert_exporter": "python",
   "pygments_lexer": "ipython3",
   "version": "3.11.13"
  },
  "toc-autonumbering": false
 },
 "nbformat": 4,
 "nbformat_minor": 5
}
