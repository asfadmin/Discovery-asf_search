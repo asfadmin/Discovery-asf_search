{
 "cells": [
  {
   "cell_type": "code",
   "execution_count": 1,
   "id": "7fa9e873",
   "metadata": {},
   "outputs": [],
   "source": [
    "%load_ext autoreload\n",
    "%autoreload 2"
   ]
  },
  {
   "cell_type": "markdown",
   "id": "78c19e76",
   "metadata": {},
   "source": [
    "# Pair\n",
    "\n",
    "1. Search for some products from which to build pairs and stacks of pairs"
   ]
  },
  {
   "cell_type": "code",
   "execution_count": 2,
   "id": "52144455-af61-4f36-b35b-57a04683ebb1",
   "metadata": {
    "scrolled": true,
    "tags": []
   },
   "outputs": [],
   "source": [
    "import asf_search as asf\n",
    "\n",
    "results = asf.product_search('S1A_IW_SLC__1SDV_20220215T225119_20220215T225146_041930_04FE2E_9252-SLC')\n",
    "reference = results[0]\n",
    "\n",
    "args = asf.ASFSearchOptions(\n",
    "    **{\"start\": '2022-02-10', \"end\": '2022-07-01'}\n",
    ")\n",
    "s = reference.stack(args)"
   ]
  },
  {
   "cell_type": "markdown",
   "id": "8a0920dc",
   "metadata": {},
   "source": [
    "2. Create a pair from 2 products"
   ]
  },
  {
   "cell_type": "code",
   "execution_count": 3,
   "id": "2b27e862",
   "metadata": {},
   "outputs": [
    {
     "name": "stdout",
     "output_type": "stream",
     "text": [
      "pair.ref.properties['sceneName']: S1A_IW_SLC__1SDV_20220215T225119_20220215T225146_041930_04FE2E_9252\n",
      "pair.ref_date: 2022-02-15\n",
      "\n",
      "pair.sec.properties['sceneName']: S1A_IW_SLC__1SDV_20220311T225119_20220311T225146_042280_050A1F_B99E\n",
      "pair.sec_date: 2022-03-11\n",
      "\n",
      "pair.temporal: 24 days, 0:00:00\n",
      "pair.perpendicular: -73\n"
     ]
    }
   ],
   "source": [
    "pair = asf.Pair(reference, s[2])\n",
    "\n",
    "print(f\"pair.ref.properties['sceneName']: {pair.ref.properties['sceneName']}\")\n",
    "print(f\"pair.ref_date: {pair.ref_date}\\n\")\n",
    "\n",
    "print(f\"pair.sec.properties['sceneName']: {pair.sec.properties['sceneName']}\")\n",
    "print(f\"pair.sec_date: {pair.sec_date}\\n\")\n",
    "\n",
    "print(f\"pair.temporal: {pair.temporal}\")\n",
    "print(f\"pair.perpendicular: {pair.perpendicular}\")"
   ]
  },
  {
   "cell_type": "markdown",
   "id": "d599ee41",
   "metadata": {},
   "source": [
    "3. Check the estimated coherence of the pair"
   ]
  },
  {
   "cell_type": "code",
   "execution_count": 4,
   "id": "9b85de54",
   "metadata": {},
   "outputs": [
    {
     "data": {
      "text/plain": [
       "16.952704858593183"
      ]
     },
     "execution_count": 4,
     "metadata": {},
     "output_type": "execute_result"
    }
   ],
   "source": [
    "pair.estimate_mean_coherence()"
   ]
  },
  {
   "cell_type": "markdown",
   "id": "77bb1b26",
   "metadata": {},
   "source": [
    "4. Create a new pair with a long temporal baseline"
   ]
  },
  {
   "cell_type": "code",
   "execution_count": 5,
   "id": "1a0c0ca1",
   "metadata": {},
   "outputs": [
    {
     "name": "stdout",
     "output_type": "stream",
     "text": [
      "long_pair.temporal: 120 days, 0:00:00\n"
     ]
    }
   ],
   "source": [
    "long_pair = pair = asf.Pair(reference, s[10])\n",
    "print(f\"long_pair.temporal: {long_pair.temporal}\")"
   ]
  },
  {
   "cell_type": "markdown",
   "id": "2c266f26",
   "metadata": {},
   "source": [
    "5. Since the temporal baseline is greater than 48, an exception is raised when checking coherence"
   ]
  },
  {
   "cell_type": "code",
   "execution_count": 6,
   "id": "9d66a395",
   "metadata": {},
   "outputs": [
    {
     "ename": "Exception",
     "evalue": "Coherence dataset includes temporal baselines up to 48 days.\n            Temporal baseline: 120 days",
     "output_type": "error",
     "traceback": [
      "\u001b[31m---------------------------------------------------------------------------\u001b[39m",
      "\u001b[31mException\u001b[39m                                 Traceback (most recent call last)",
      "\u001b[36mCell\u001b[39m\u001b[36m \u001b[39m\u001b[32mIn[6]\u001b[39m\u001b[32m, line 1\u001b[39m\n\u001b[32m----> \u001b[39m\u001b[32m1\u001b[39m \u001b[43mlong_pair\u001b[49m\u001b[43m.\u001b[49m\u001b[43mestimate_mean_coherence\u001b[49m\u001b[43m(\u001b[49m\u001b[43m)\u001b[49m\n",
      "\u001b[36mFile \u001b[39m\u001b[32m~/Documents/Discovery-asf_search/asf_search/Pair.py:68\u001b[39m, in \u001b[36mPair.estimate_mean_coherence\u001b[39m\u001b[34m(self)\u001b[39m\n\u001b[32m     66\u001b[39m temporal = math.ceil(\u001b[38;5;28mself\u001b[39m.temporal.days / \u001b[32m6\u001b[39m) * \u001b[32m6\u001b[39m\n\u001b[32m     67\u001b[39m \u001b[38;5;28;01mif\u001b[39;00m temporal > \u001b[32m48\u001b[39m:\n\u001b[32m---> \u001b[39m\u001b[32m68\u001b[39m     \u001b[38;5;28;01mraise\u001b[39;00m \u001b[38;5;167;01mException\u001b[39;00m(\n\u001b[32m     69\u001b[39m         (\u001b[33mf\u001b[39m\u001b[33m\"\"\"\u001b[39m\u001b[33mCoherence dataset includes temporal baselines up to 48 days.\u001b[39m\n\u001b[32m     70\u001b[39m \u001b[33m    Temporal baseline: \u001b[39m\u001b[38;5;132;01m{\u001b[39;00m\u001b[38;5;28mself\u001b[39m.temporal.days\u001b[38;5;132;01m}\u001b[39;00m\u001b[33m days\u001b[39m\u001b[33m\"\"\"\u001b[39m))\n\u001b[32m     72\u001b[39m uri = \u001b[33mf\u001b[39m\u001b[33m\"\u001b[39m\u001b[33ms3://asf-search-coh/global_coh_100ppd_11367x4367/Global_\u001b[39m\u001b[38;5;132;01m{\u001b[39;00mseason\u001b[38;5;132;01m}\u001b[39;00m\u001b[33m_vv_COH\u001b[39m\u001b[38;5;132;01m{\u001b[39;00mtemporal\u001b[38;5;132;01m}\u001b[39;00m\u001b[33m_100ppd.zarr\u001b[39m\u001b[33m\"\u001b[39m\n\u001b[32m     73\u001b[39m coords = \u001b[38;5;28mself\u001b[39m.ref.geometry[\u001b[33m'\u001b[39m\u001b[33mcoordinates\u001b[39m\u001b[33m'\u001b[39m][\u001b[32m0\u001b[39m]\n",
      "\u001b[31mException\u001b[39m: Coherence dataset includes temporal baselines up to 48 days.\n            Temporal baseline: 120 days"
     ]
    }
   ],
   "source": [
    "long_pair.estimate_mean_coherence()"
   ]
  },
  {
   "cell_type": "markdown",
   "id": "50c465f1",
   "metadata": {},
   "source": [
    "3. Test pair equivalence. Two pairs are equal if they both share the same reference and secondary dates."
   ]
  },
  {
   "cell_type": "code",
   "execution_count": 7,
   "id": "5df76460",
   "metadata": {},
   "outputs": [
    {
     "name": "stdout",
     "output_type": "stream",
     "text": [
      "a.ref_date: 2022-02-15, a.sec_date: 2022-06-15\n",
      "b.ref_date: 2022-02-15, b.sec_date: 2022-06-15\n",
      "c.ref_date: 2022-02-15, c.sec_date: 2022-06-27\n",
      "a == b: True\n",
      "a == c: False\n"
     ]
    }
   ],
   "source": [
    "from copy import deepcopy\n",
    "\n",
    "a = deepcopy(pair)\n",
    "b = deepcopy(pair)\n",
    "c = asf.Pair(reference, s[11])\n",
    "print(f\"a.ref_date: {a.ref_date}, a.sec_date: {a.sec_date}\")\n",
    "print(f\"b.ref_date: {b.ref_date}, b.sec_date: {b.sec_date}\")\n",
    "print(f\"c.ref_date: {c.ref_date}, c.sec_date: {c.sec_date}\")\n",
    "print(f\"a == b: {a == b}\")\n",
    "print(f\"a == c: {a == c}\")"
   ]
  },
  {
   "cell_type": "markdown",
   "id": "3fe746e6",
   "metadata": {},
   "source": [
    "# Stack\n",
    "\n",
    "1) Create a Stack from the reference scene product instantiated above\n",
    "\n",
    "Stack accepts ASFSearchOptions, which are used in a stack_from_product search"
   ]
  },
  {
   "cell_type": "code",
   "execution_count": 8,
   "id": "1c07d0c5",
   "metadata": {},
   "outputs": [
    {
     "data": {
      "text/plain": [
       "<asf_search.Stack.Stack at 0x16a844ad0>"
      ]
     },
     "execution_count": 8,
     "metadata": {},
     "output_type": "execute_result"
    }
   ],
   "source": [
    "args = asf.ASFSearchOptions(\n",
    "    **{\"start\": '2020-01-01', \"end\": '2020-03-02'}\n",
    ")\n",
    "\n",
    "stack = asf.Stack(reference, args)\n",
    "stack"
   ]
  },
  {
   "cell_type": "markdown",
   "id": "61843882",
   "metadata": {},
   "source": [
    "2. stack.full_stack contains every possible pair given the provided ASFSearchOptions"
   ]
  },
  {
   "cell_type": "code",
   "execution_count": 9,
   "id": "3c9ce924",
   "metadata": {},
   "outputs": [
    {
     "data": {
      "text/plain": [
       "[<asf_search.Pair.Pair at 0x118ab5250>,\n",
       " <asf_search.Pair.Pair at 0x16a85c8d0>,\n",
       " <asf_search.Pair.Pair at 0x16a85c490>,\n",
       " <asf_search.Pair.Pair at 0x16a6b7650>,\n",
       " <asf_search.Pair.Pair at 0x16a6b7450>,\n",
       " <asf_search.Pair.Pair at 0x10c5bec60>,\n",
       " <asf_search.Pair.Pair at 0x10c5bf980>,\n",
       " <asf_search.Pair.Pair at 0x16af24670>,\n",
       " <asf_search.Pair.Pair at 0x16af24ad0>,\n",
       " <asf_search.Pair.Pair at 0x16ae7fad0>]"
      ]
     },
     "execution_count": 9,
     "metadata": {},
     "output_type": "execute_result"
    }
   ],
   "source": [
    "stack.full_stack"
   ]
  },
  {
   "cell_type": "markdown",
   "id": "7e3373bf",
   "metadata": {},
   "source": [
    "3. Remove pairs from the full stack, identifying them by ref and sec dates\n",
    "\n",
    "Note that both full_stack and subset_stack contain the same Pair objects, so keeping both stacks does not eat up a ton of extra memory"
   ]
  },
  {
   "cell_type": "code",
   "execution_count": 11,
   "id": "9cffb6b1",
   "metadata": {},
   "outputs": [
    {
     "data": {
      "text/plain": [
       "[<asf_search.Pair.Pair at 0x16a6b7650>,\n",
       " <asf_search.Pair.Pair at 0x16a6b7450>,\n",
       " <asf_search.Pair.Pair at 0x10c5bec60>,\n",
       " <asf_search.Pair.Pair at 0x10c5bf980>,\n",
       " <asf_search.Pair.Pair at 0x16af24670>,\n",
       " <asf_search.Pair.Pair at 0x16af24ad0>,\n",
       " <asf_search.Pair.Pair at 0x16ae7fad0>]"
      ]
     },
     "execution_count": 11,
     "metadata": {},
     "output_type": "execute_result"
    }
   ],
   "source": [
    "import pandas as pd\n",
    "from datetime import datetime, date\n",
    "\n",
    "stack.remove_pairs([\n",
    "    (stack.full_stack[0].ref_date, stack.full_stack[0].sec_date),\n",
    "    (stack.full_stack[1].ref_date, stack.full_stack[1].sec_date),\n",
    "    (stack.full_stack[2].ref_date, stack.full_stack[2].sec_date)\n",
    "])\n",
    "\n",
    "stack.subset_stack"
   ]
  },
  {
   "cell_type": "markdown",
   "id": "c7f04aee",
   "metadata": {},
   "source": [
    "# Network\n",
    "\n",
    "## TODO"
   ]
  },
  {
   "cell_type": "code",
   "execution_count": null,
   "id": "82d3c0f6",
   "metadata": {},
   "outputs": [],
   "source": []
  }
 ],
 "metadata": {
  "kernelspec": {
   "display_name": "asf_search_2",
   "language": "python",
   "name": "python3"
  },
  "language_info": {
   "codemirror_mode": {
    "name": "ipython",
    "version": 3
   },
   "file_extension": ".py",
   "mimetype": "text/x-python",
   "name": "python",
   "nbconvert_exporter": "python",
   "pygments_lexer": "ipython3",
   "version": "3.13.3"
  },
  "toc-autonumbering": false
 },
 "nbformat": 4,
 "nbformat_minor": 5
}
