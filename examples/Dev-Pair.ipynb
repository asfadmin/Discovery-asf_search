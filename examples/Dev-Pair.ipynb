{
 "cells": [
  {
   "cell_type": "code",
   "execution_count": 1,
   "id": "7fa9e873",
   "metadata": {},
   "outputs": [],
   "source": [
    "%load_ext autoreload\n",
    "%autoreload 2"
   ]
  },
  {
   "cell_type": "code",
   "execution_count": 2,
   "id": "52144455-af61-4f36-b35b-57a04683ebb1",
   "metadata": {
    "scrolled": true,
    "tags": []
   },
   "outputs": [],
   "source": [
    "import asf_search as asf\n",
    "\n",
    "results = asf.product_search('S1A_IW_SLC__1SDV_20220215T225119_20220215T225146_041930_04FE2E_9252-SLC')\n",
    "reference = results[0]\n",
    "stack = reference.stack()"
   ]
  },
  {
   "cell_type": "code",
   "execution_count": 3,
   "id": "4dd4ec77-6e5f-4d5e-8253-719a4152285e",
   "metadata": {},
   "outputs": [],
   "source": [
    "pair = asf.Pair(reference, stack[170])"
   ]
  },
  {
   "cell_type": "code",
   "execution_count": 4,
   "id": "cfc87137",
   "metadata": {},
   "outputs": [
    {
     "data": {
      "text/plain": [
       "-15"
      ]
     },
     "execution_count": 4,
     "metadata": {},
     "output_type": "execute_result"
    }
   ],
   "source": [
    "pair.perpendicular"
   ]
  },
  {
   "cell_type": "code",
   "execution_count": 5,
   "id": "b17cd223",
   "metadata": {},
   "outputs": [
    {
     "data": {
      "text/plain": [
       "datetime.timedelta(days=12)"
      ]
     },
     "execution_count": 5,
     "metadata": {},
     "output_type": "execute_result"
    }
   ],
   "source": [
    "pair.temporal"
   ]
  },
  {
   "cell_type": "code",
   "execution_count": 6,
   "id": "cce885e1",
   "metadata": {},
   "outputs": [
    {
     "data": {
      "text/plain": [
       "18.315997099347353"
      ]
     },
     "execution_count": 6,
     "metadata": {},
     "output_type": "execute_result"
    }
   ],
   "source": [
    "pair.estimate_mean_coherence()"
   ]
  },
  {
   "cell_type": "code",
   "execution_count": null,
   "id": "bad63f36",
   "metadata": {},
   "outputs": [],
   "source": []
  }
 ],
 "metadata": {
  "kernelspec": {
   "display_name": "asf_search_2",
   "language": "python",
   "name": "python3"
  },
  "language_info": {
   "codemirror_mode": {
    "name": "ipython",
    "version": 3
   },
   "file_extension": ".py",
   "mimetype": "text/x-python",
   "name": "python",
   "nbconvert_exporter": "python",
   "pygments_lexer": "ipython3",
   "version": "3.13.3"
  },
  "toc-autonumbering": false
 },
 "nbformat": 4,
 "nbformat_minor": 5
}
