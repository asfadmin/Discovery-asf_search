{
 "cells": [
  {
   "cell_type": "code",
   "execution_count": 1,
   "id": "7fa9e873",
   "metadata": {},
   "outputs": [],
   "source": [
    "%load_ext autoreload\n",
    "%autoreload 2"
   ]
  },
  {
   "cell_type": "markdown",
   "id": "78c19e76",
   "metadata": {},
   "source": [
    "# Pair\n",
    "\n",
    "### Search for some products from which to build pairs and stacks of pairs"
   ]
  },
  {
   "cell_type": "code",
   "execution_count": 2,
   "id": "52144455-af61-4f36-b35b-57a04683ebb1",
   "metadata": {
    "scrolled": true,
    "tags": []
   },
   "outputs": [],
   "source": [
    "import asf_search as asf\n",
    "\n",
    "results = asf.product_search('S1A_IW_SLC__1SDV_20220215T225119_20220215T225146_041930_04FE2E_9252-SLC')\n",
    "reference = results[0]\n",
    "\n",
    "args = asf.ASFSearchOptions(\n",
    "    **{\"start\": '2022-02-10', \"end\": '2022-07-01'}\n",
    ")\n",
    "s = reference.stack(args)"
   ]
  },
  {
   "cell_type": "markdown",
   "id": "8a0920dc",
   "metadata": {},
   "source": [
    "### Create a Pair object from 2 products"
   ]
  },
  {
   "cell_type": "code",
   "execution_count": 3,
   "id": "2b27e862",
   "metadata": {},
   "outputs": [
    {
     "name": "stdout",
     "output_type": "stream",
     "text": [
      "pair.ref.properties['sceneName']: S1A_IW_SLC__1SDV_20220215T225119_20220215T225146_041930_04FE2E_9252\n",
      "pair.ref_date: 2022-02-15\n",
      "\n",
      "pair.sec.properties['sceneName']: S1A_IW_SLC__1SDV_20220311T225119_20220311T225146_042280_050A1F_B99E\n",
      "pair.sec_date: 2022-03-11\n",
      "\n",
      "pair.temporal: 24 days, 0:00:00\n",
      "pair.perpendicular: -73\n"
     ]
    }
   ],
   "source": [
    "pair = asf.Pair(reference, s[2])\n",
    "\n",
    "print(f\"pair.ref.properties['sceneName']: {pair.ref.properties['sceneName']}\")\n",
    "print(f\"pair.ref_date: {pair.ref_date}\\n\")\n",
    "\n",
    "print(f\"pair.sec.properties['sceneName']: {pair.sec.properties['sceneName']}\")\n",
    "print(f\"pair.sec_date: {pair.sec_date}\\n\")\n",
    "\n",
    "print(f\"pair.temporal: {pair.temporal}\")\n",
    "print(f\"pair.perpendicular: {pair.perpendicular}\")"
   ]
  },
  {
   "cell_type": "markdown",
   "id": "d599ee41",
   "metadata": {},
   "source": [
    "3. Check the estimated coherence of the pair"
   ]
  },
  {
   "cell_type": "code",
   "execution_count": 4,
   "id": "9b85de54",
   "metadata": {},
   "outputs": [
    {
     "data": {
      "text/plain": [
       "16.952704858593183"
      ]
     },
     "execution_count": 4,
     "metadata": {},
     "output_type": "execute_result"
    }
   ],
   "source": [
    "pair.estimate_mean_coherence()"
   ]
  },
  {
   "cell_type": "markdown",
   "id": "77bb1b26",
   "metadata": {},
   "source": [
    "4. Create a new pair with a long temporal baseline"
   ]
  },
  {
   "cell_type": "code",
   "execution_count": 5,
   "id": "1a0c0ca1",
   "metadata": {},
   "outputs": [
    {
     "name": "stdout",
     "output_type": "stream",
     "text": [
      "long_pair.temporal: 120 days, 0:00:00\n"
     ]
    }
   ],
   "source": [
    "long_pair = pair = asf.Pair(reference, s[10])\n",
    "print(f\"long_pair.temporal: {long_pair.temporal}\")"
   ]
  },
  {
   "cell_type": "markdown",
   "id": "2c266f26",
   "metadata": {},
   "source": [
    "5. Since the temporal baseline is greater than 48, an exception is raised when checking coherence"
   ]
  },
  {
   "cell_type": "code",
   "execution_count": 6,
   "id": "9d66a395",
   "metadata": {},
   "outputs": [
    {
     "ename": "Exception",
     "evalue": "Coherence dataset includes temporal baselines up to 48 days.\n            Temporal baseline: 120 days",
     "output_type": "error",
     "traceback": [
      "\u001b[31m---------------------------------------------------------------------------\u001b[39m",
      "\u001b[31mException\u001b[39m                                 Traceback (most recent call last)",
      "\u001b[36mCell\u001b[39m\u001b[36m \u001b[39m\u001b[32mIn[6]\u001b[39m\u001b[32m, line 1\u001b[39m\n\u001b[32m----> \u001b[39m\u001b[32m1\u001b[39m \u001b[43mlong_pair\u001b[49m\u001b[43m.\u001b[49m\u001b[43mestimate_mean_coherence\u001b[49m\u001b[43m(\u001b[49m\u001b[43m)\u001b[49m\n",
      "\u001b[36mFile \u001b[39m\u001b[32m~/Documents/Discovery-asf_search/asf_search/Pair.py:68\u001b[39m, in \u001b[36mPair.estimate_mean_coherence\u001b[39m\u001b[34m(self)\u001b[39m\n\u001b[32m     66\u001b[39m temporal = math.ceil(\u001b[38;5;28mself\u001b[39m.temporal.days / \u001b[32m6\u001b[39m) * \u001b[32m6\u001b[39m\n\u001b[32m     67\u001b[39m \u001b[38;5;28;01mif\u001b[39;00m temporal > \u001b[32m48\u001b[39m:\n\u001b[32m---> \u001b[39m\u001b[32m68\u001b[39m     \u001b[38;5;28;01mraise\u001b[39;00m \u001b[38;5;167;01mException\u001b[39;00m(\n\u001b[32m     69\u001b[39m         (\u001b[33mf\u001b[39m\u001b[33m\"\"\"\u001b[39m\u001b[33mCoherence dataset includes temporal baselines up to 48 days.\u001b[39m\n\u001b[32m     70\u001b[39m \u001b[33m    Temporal baseline: \u001b[39m\u001b[38;5;132;01m{\u001b[39;00m\u001b[38;5;28mself\u001b[39m.temporal.days\u001b[38;5;132;01m}\u001b[39;00m\u001b[33m days\u001b[39m\u001b[33m\"\"\"\u001b[39m))\n\u001b[32m     72\u001b[39m uri = \u001b[33mf\u001b[39m\u001b[33m\"\u001b[39m\u001b[33ms3://asf-search-coh/global_coh_100ppd_11367x4367/Global_\u001b[39m\u001b[38;5;132;01m{\u001b[39;00mseason\u001b[38;5;132;01m}\u001b[39;00m\u001b[33m_vv_COH\u001b[39m\u001b[38;5;132;01m{\u001b[39;00mtemporal\u001b[38;5;132;01m}\u001b[39;00m\u001b[33m_100ppd.zarr\u001b[39m\u001b[33m\"\u001b[39m\n\u001b[32m     73\u001b[39m coords = \u001b[38;5;28mself\u001b[39m.ref.geometry[\u001b[33m'\u001b[39m\u001b[33mcoordinates\u001b[39m\u001b[33m'\u001b[39m][\u001b[32m0\u001b[39m]\n",
      "\u001b[31mException\u001b[39m: Coherence dataset includes temporal baselines up to 48 days.\n            Temporal baseline: 120 days"
     ]
    }
   ],
   "source": [
    "long_pair.estimate_mean_coherence()"
   ]
  },
  {
   "cell_type": "markdown",
   "id": "50c465f1",
   "metadata": {},
   "source": [
    "3. Test pair equivalence. Two pairs are equal if they both share the same reference and secondary dates."
   ]
  },
  {
   "cell_type": "code",
   "execution_count": 7,
   "id": "5df76460",
   "metadata": {},
   "outputs": [
    {
     "name": "stdout",
     "output_type": "stream",
     "text": [
      "a.ref_date: 2022-02-15, a.sec_date: 2022-06-15\n",
      "b.ref_date: 2022-02-15, b.sec_date: 2022-06-15\n",
      "c.ref_date: 2022-02-15, c.sec_date: 2022-06-27\n",
      "a == b: True\n",
      "a == c: False\n"
     ]
    }
   ],
   "source": [
    "from copy import deepcopy\n",
    "\n",
    "a = deepcopy(pair)\n",
    "b = deepcopy(pair)\n",
    "c = asf.Pair(reference, s[11])\n",
    "print(f\"a.ref_date: {a.ref_date}, a.sec_date: {a.sec_date}\")\n",
    "print(f\"b.ref_date: {b.ref_date}, b.sec_date: {b.sec_date}\")\n",
    "print(f\"c.ref_date: {c.ref_date}, c.sec_date: {c.sec_date}\")\n",
    "print(f\"a == b: {a == b}\")\n",
    "print(f\"a == c: {a == c}\")"
   ]
  },
  {
   "cell_type": "markdown",
   "id": "3fe746e6",
   "metadata": {},
   "source": [
    "# Stack\n",
    "\n",
    "### Create a Stack from the reference scene object instantiated above\n",
    "\n",
    "Stack accepts ASFSearchOptions, which are used in a stack_from_product search"
   ]
  },
  {
   "cell_type": "code",
   "execution_count": 8,
   "id": "1c07d0c5",
   "metadata": {},
   "outputs": [
    {
     "data": {
      "text/plain": [
       "[<asf_search.Pair.Pair at 0x114be9250>,\n",
       " <asf_search.Pair.Pair at 0x166a50380>,\n",
       " <asf_search.Pair.Pair at 0x166a50c00>,\n",
       " <asf_search.Pair.Pair at 0x1668af850>,\n",
       " <asf_search.Pair.Pair at 0x1668af650>,\n",
       " <asf_search.Pair.Pair at 0x16679b4d0>,\n",
       " <asf_search.Pair.Pair at 0x1670da7b0>,\n",
       " <asf_search.Pair.Pair at 0x167114050>,\n",
       " <asf_search.Pair.Pair at 0x167114750>,\n",
       " <asf_search.Pair.Pair at 0x16706ed00>]"
      ]
     },
     "execution_count": 8,
     "metadata": {},
     "output_type": "execute_result"
    }
   ],
   "source": [
    "args = asf.ASFSearchOptions(\n",
    "    **{\"start\": '2020-01-01', \"end\": '2020-03-02'}\n",
    ")\n",
    "\n",
    "stack = asf.Stack(reference, args)\n",
    "stack.full_stack"
   ]
  },
  {
   "cell_type": "markdown",
   "id": "7e3373bf",
   "metadata": {},
   "source": [
    "### Remove pairs from the full stack, identifying them by ref and sec dates\n",
    "\n",
    "Note that both full_stack and subset_stack contain the same Pair objects, so keeping both stacks does not eat up a ton of extra memory"
   ]
  },
  {
   "cell_type": "code",
   "execution_count": 9,
   "id": "9cffb6b1",
   "metadata": {},
   "outputs": [
    {
     "data": {
      "text/plain": [
       "[<asf_search.Pair.Pair at 0x1668af850>,\n",
       " <asf_search.Pair.Pair at 0x1668af650>,\n",
       " <asf_search.Pair.Pair at 0x16679b4d0>,\n",
       " <asf_search.Pair.Pair at 0x1670da7b0>,\n",
       " <asf_search.Pair.Pair at 0x167114050>,\n",
       " <asf_search.Pair.Pair at 0x167114750>,\n",
       " <asf_search.Pair.Pair at 0x16706ed00>]"
      ]
     },
     "execution_count": 9,
     "metadata": {},
     "output_type": "execute_result"
    }
   ],
   "source": [
    "import pandas as pd\n",
    "from datetime import datetime, date\n",
    "\n",
    "stack.remove_pairs([\n",
    "    (stack.full_stack[0].ref_date, stack.full_stack[0].sec_date),\n",
    "    (stack.full_stack[1].ref_date, stack.full_stack[1].sec_date),\n",
    "    (stack.full_stack[2].ref_date, stack.full_stack[2].sec_date)\n",
    "])\n",
    "\n",
    "stack.subset_stack"
   ]
  },
  {
   "cell_type": "markdown",
   "id": "dd65a51b",
   "metadata": {},
   "source": [
    "## Network\n",
    "\n",
    "Create a Network from the same reference scene. \n",
    "\n",
    "Attempts to create a connected, seasonal SBAS stack based on:\n",
    "- georeference scene\n",
    "- season\n",
    "- start date\n",
    "- end date\n",
    "- perpendicular baseline\n",
    "- temporal baseline\n",
    "  "
   ]
  },
  {
   "cell_type": "code",
   "execution_count": 10,
   "id": "3eba8ff1",
   "metadata": {},
   "outputs": [
    {
     "data": {
      "text/plain": [
       "<asf_search.Network.Network at 0x166a35d30>"
      ]
     },
     "execution_count": 10,
     "metadata": {},
     "output_type": "execute_result"
    }
   ],
   "source": [
    "import pandas as pd\n",
    "from datetime import datetime\n",
    "\n",
    "season = (\"1-1\", \"6-25\")\n",
    "\n",
    "def get_julian_season(self) -> tuple[int,int]:\n",
    "    season_start_ts = pd.Timestamp(\n",
    "        datetime.strptime(f\"{season[0]}-0001\", \"%m-%d-%Y\"), tz=\"UTC\"\n",
    "        )\n",
    "    season_start_day = season_start_ts.timetuple().tm_yday\n",
    "    season_end_ts = pd.Timestamp(\n",
    "        datetime.strptime(f\"{season[1]}-0001\", \"%m-%d-%Y\"), tz=\"UTC\"\n",
    "    )\n",
    "    season_end_day = season_end_ts.timetuple().tm_yday\n",
    "    return (season_start_day, season_end_day)\n",
    "\n",
    "\n",
    "opts = asf.ASFSearchOptions(\n",
    "    **{\n",
    "        \"start\": '2021-01-01', \n",
    "        \"end\": '2023-03-02', \n",
    "        \"season\": get_julian_season(season)\n",
    "        }\n",
    ")\n",
    "\n",
    "network = asf.Network(\n",
    "    reference,\n",
    "    perp_baseline=50, \n",
    "    temporal_baseline=36,\n",
    "    bridge_target_date='3-1',\n",
    "    opts=opts)\n",
    "network"
   ]
  },
  {
   "cell_type": "code",
   "execution_count": 11,
   "id": "a23b983a",
   "metadata": {},
   "outputs": [
    {
     "name": "stdout",
     "output_type": "stream",
     "text": [
      "561\n",
      "494\n",
      "67\n"
     ]
    }
   ],
   "source": [
    "print(len(network.full_stack))\n",
    "print(len(network._date_pair_remove_list))\n",
    "print(len(network.subset_stack))"
   ]
  },
  {
   "cell_type": "code",
   "execution_count": 12,
   "id": "b1b35de5",
   "metadata": {},
   "outputs": [
    {
     "data": {
      "application/vnd.plotly.v1+json": {
       "config": {
        "plotlyServerURL": "https://plot.ly"
       },
       "data": [
        {
         "line": {
          "color": "rgba(52, 114, 168, 0.7)",
          "width": 4
         },
         "mode": "lines",
         "type": "scatter",
         "x": [
          1609664400,
          1610701200,
          null,
          1609664400,
          1612774800,
          null,
          1610701200,
          1611738000,
          null,
          1610701200,
          1612774800,
          null,
          1610701200,
          1613811600,
          null,
          1612774800,
          1613811600,
          null,
          1612774800,
          1614848400,
          null,
          1612774800,
          1615881600,
          null,
          1612774800,
          1642842000,
          null,
          1612774800,
          1643878800,
          null,
          1612774800,
          1644915600,
          null,
          1612774800,
          1645952400,
          null,
          1611738000,
          1612774800,
          null,
          1611738000,
          1642842000,
          null,
          1611738000,
          1643878800,
          null,
          1611738000,
          1644915600,
          null,
          1611738000,
          1645952400,
          null,
          1613811600,
          1614848400,
          null,
          1613811600,
          1615881600,
          null,
          1613811600,
          1616918400,
          null,
          1613811600,
          1642842000,
          null,
          1613811600,
          1644915600,
          null,
          1613811600,
          1645952400,
          null,
          1613811600,
          1646989200,
          null,
          1642842000,
          1643878800,
          null,
          1642842000,
          1644915600,
          null,
          1642842000,
          1645952400,
          null,
          1643878800,
          1644915600,
          null,
          1643878800,
          1672909200,
          null,
          1644915600,
          1645952400,
          null,
          1644915600,
          1676019600,
          null,
          1645952400,
          1676019600,
          null,
          1614848400,
          1615881600,
          null,
          1614848400,
          1616918400,
          null,
          1614848400,
          1644915600,
          null,
          1614848400,
          1645952400,
          null,
          1614848400,
          1646989200,
          null,
          1614848400,
          1649059200,
          null,
          1615881600,
          1616918400,
          null,
          1615881600,
          1644915600,
          null,
          1615881600,
          1645952400,
          null,
          1616918400,
          1620028800,
          null,
          1616918400,
          1645952400,
          null,
          1646989200,
          1649059200,
          null,
          1646989200,
          1650096000,
          null,
          1646989200,
          1676019600,
          null,
          1649059200,
          1650096000,
          null,
          1649059200,
          1651132800,
          null,
          1649059200,
          1652169600,
          null,
          1620028800,
          1621065600,
          null,
          1620028800,
          1622102400,
          null,
          1620028800,
          1623139200,
          null,
          1617955200,
          1618992000,
          null,
          1621065600,
          1622102400,
          null,
          1621065600,
          1623139200,
          null,
          1621065600,
          1624176000,
          null,
          1622102400,
          1623139200,
          null,
          1622102400,
          1624176000,
          null,
          1623139200,
          1624176000,
          null,
          1650096000,
          1651132800,
          null,
          1650096000,
          1652169600,
          null,
          1650096000,
          1653206400,
          null,
          1651132800,
          1652169600,
          null,
          1651132800,
          1653206400,
          null,
          1651132800,
          1654243200,
          null,
          1652169600,
          1653206400,
          null,
          1673946000,
          1677056400,
          null
         ],
         "y": [
          -31,
          -10,
          null,
          -31,
          9,
          null,
          -10,
          29,
          null,
          -10,
          9,
          null,
          -10,
          -28,
          null,
          9,
          -28,
          null,
          9,
          -23,
          null,
          9,
          3,
          null,
          9,
          -5,
          null,
          9,
          44,
          null,
          9,
          0,
          null,
          9,
          -15,
          null,
          29,
          9,
          null,
          29,
          -5,
          null,
          29,
          44,
          null,
          29,
          0,
          null,
          29,
          -15,
          null,
          -28,
          -23,
          null,
          -28,
          3,
          null,
          -28,
          0,
          null,
          -28,
          -5,
          null,
          -28,
          0,
          null,
          -28,
          -15,
          null,
          -28,
          -73,
          null,
          -5,
          44,
          null,
          -5,
          0,
          null,
          -5,
          -15,
          null,
          44,
          0,
          null,
          44,
          76,
          null,
          0,
          -15,
          null,
          0,
          -26,
          null,
          -15,
          -26,
          null,
          -23,
          3,
          null,
          -23,
          0,
          null,
          -23,
          0,
          null,
          -23,
          -15,
          null,
          -23,
          -73,
          null,
          -23,
          -69,
          null,
          3,
          0,
          null,
          3,
          0,
          null,
          3,
          -15,
          null,
          0,
          10,
          null,
          0,
          -15,
          null,
          -73,
          -69,
          null,
          -73,
          -51,
          null,
          -73,
          -26,
          null,
          -69,
          -51,
          null,
          -69,
          -94,
          null,
          -69,
          -55,
          null,
          10,
          -13,
          null,
          10,
          -7,
          null,
          10,
          -29,
          null,
          -82,
          -79,
          null,
          -13,
          -7,
          null,
          -13,
          -29,
          null,
          -13,
          -50,
          null,
          -7,
          -29,
          null,
          -7,
          -50,
          null,
          -29,
          -50,
          null,
          -51,
          -94,
          null,
          -51,
          -55,
          null,
          -51,
          -45,
          null,
          -94,
          -55,
          null,
          -94,
          -45,
          null,
          -94,
          -140,
          null,
          -55,
          -45,
          null,
          161,
          126,
          null
         ]
        },
        {
         "hoverinfo": "text",
         "marker": {
          "color": "rgba(255, 255, 255, 0)",
          "size": 20
         },
         "mode": "markers",
         "text": [
          "2021-01-03 - 2021-01-15, perp baseline: 21, temp baseline: 12",
          "2021-01-03 - 2021-02-08, perp baseline: 40, temp baseline: 36",
          "2021-01-15 - 2021-01-27, perp baseline: 35, temp baseline: 12",
          "2021-01-15 - 2021-02-08, perp baseline: 15, temp baseline: 24",
          "2021-01-15 - 2021-02-20, perp baseline: -18, temp baseline: 36",
          "2021-02-08 - 2021-02-20, perp baseline: -37, temp baseline: 12",
          "2021-02-08 - 2021-03-04, perp baseline: -32, temp baseline: 24",
          "2021-02-08 - 2021-03-16, perp baseline: -6, temp baseline: 36",
          "2021-02-08 - 2022-01-22, perp baseline: -14, temp baseline: 348",
          "2021-02-08 - 2022-02-03, perp baseline: 34, temp baseline: 360",
          "2021-02-08 - 2022-02-15, perp baseline: -9, temp baseline: 372",
          "2021-02-08 - 2022-02-27, perp baseline: -24, temp baseline: 384",
          "2021-01-27 - 2021-02-08, perp baseline: -20, temp baseline: 12",
          "2021-01-27 - 2022-01-22, perp baseline: -35, temp baseline: 360",
          "2021-01-27 - 2022-02-03, perp baseline: 14, temp baseline: 372",
          "2021-01-27 - 2022-02-15, perp baseline: -29, temp baseline: 384",
          "2021-01-27 - 2022-02-27, perp baseline: -44, temp baseline: 396",
          "2021-02-20 - 2021-03-04, perp baseline: 1, temp baseline: 12",
          "2021-02-20 - 2021-03-16, perp baseline: 27, temp baseline: 24",
          "2021-02-20 - 2021-03-28, perp baseline: 28, temp baseline: 36",
          "2021-02-20 - 2022-01-22, perp baseline: 23, temp baseline: 336",
          "2021-02-20 - 2022-02-15, perp baseline: 24, temp baseline: 360",
          "2021-02-20 - 2022-02-27, perp baseline: 9, temp baseline: 372",
          "2021-02-20 - 2022-03-11, perp baseline: -49, temp baseline: 384",
          "2022-01-22 - 2022-02-03, perp baseline: 45, temp baseline: 12",
          "2022-01-22 - 2022-02-15, perp baseline: 1, temp baseline: 24",
          "2022-01-22 - 2022-02-27, perp baseline: -14, temp baseline: 36",
          "2022-02-03 - 2022-02-15, perp baseline: -44, temp baseline: 12",
          "2022-02-03 - 2023-01-05, perp baseline: 32, temp baseline: 336",
          "2022-02-15 - 2022-02-27, perp baseline: -15, temp baseline: 12",
          "2022-02-15 - 2023-02-10, perp baseline: -26, temp baseline: 360",
          "2022-02-27 - 2023-02-10, perp baseline: -11, temp baseline: 348",
          "2021-03-04 - 2021-03-16, perp baseline: 26, temp baseline: 12",
          "2021-03-04 - 2021-03-28, perp baseline: 23, temp baseline: 24",
          "2021-03-04 - 2022-02-15, perp baseline: 23, temp baseline: 348",
          "2021-03-04 - 2022-02-27, perp baseline: 8, temp baseline: 360",
          "2021-03-04 - 2022-03-11, perp baseline: -50, temp baseline: 372",
          "2021-03-04 - 2022-04-04, perp baseline: -46, temp baseline: 396",
          "2021-03-16 - 2021-03-28, perp baseline: -3, temp baseline: 12",
          "2021-03-16 - 2022-02-15, perp baseline: -3, temp baseline: 336",
          "2021-03-16 - 2022-02-27, perp baseline: -18, temp baseline: 348",
          "2021-03-28 - 2021-05-03, perp baseline: 5, temp baseline: 36",
          "2021-03-28 - 2022-02-27, perp baseline: -19, temp baseline: 336",
          "2022-03-11 - 2022-04-04, perp baseline: 4, temp baseline: 24",
          "2022-03-11 - 2022-04-16, perp baseline: 22, temp baseline: 36",
          "2022-03-11 - 2023-02-10, perp baseline: 47, temp baseline: 336",
          "2022-04-04 - 2022-04-16, perp baseline: 13, temp baseline: 12",
          "2022-04-04 - 2022-04-28, perp baseline: -26, temp baseline: 24",
          "2022-04-04 - 2022-05-10, perp baseline: 10, temp baseline: 36",
          "2021-05-03 - 2021-05-15, perp baseline: -22, temp baseline: 12",
          "2021-05-03 - 2021-05-27, perp baseline: -17, temp baseline: 24",
          "2021-05-03 - 2021-06-08, perp baseline: -39, temp baseline: 36",
          "2021-04-09 - 2021-04-21, perp baseline: 3, temp baseline: 12",
          "2021-05-15 - 2021-05-27, perp baseline: 6, temp baseline: 12",
          "2021-05-15 - 2021-06-08, perp baseline: -21, temp baseline: 24",
          "2021-05-15 - 2021-06-20, perp baseline: -41, temp baseline: 36",
          "2021-05-27 - 2021-06-08, perp baseline: -26, temp baseline: 12",
          "2021-05-27 - 2021-06-20, perp baseline: -47, temp baseline: 24",
          "2021-06-08 - 2021-06-20, perp baseline: -20, temp baseline: 12",
          "2022-04-16 - 2022-04-28, perp baseline: -43, temp baseline: 12",
          "2022-04-16 - 2022-05-10, perp baseline: -4, temp baseline: 24",
          "2022-04-16 - 2022-05-22, perp baseline: 6, temp baseline: 36",
          "2022-04-28 - 2022-05-10, perp baseline: 35, temp baseline: 12",
          "2022-04-28 - 2022-05-22, perp baseline: 45, temp baseline: 24",
          "2022-04-28 - 2022-06-03, perp baseline: -50, temp baseline: 36",
          "2022-05-10 - 2022-05-22, perp baseline: 10, temp baseline: 12",
          "2023-01-17 - 2023-02-22, perp baseline: -35, temp baseline: 36"
         ],
         "type": "scatter",
         "x": [
          1610182800,
          1611219600,
          1611219600,
          1611738000,
          1612256400,
          1613293200,
          1613811600,
          1614328200,
          1627808400,
          1628326800,
          1628845200,
          1629363600,
          1612256400,
          1627290000,
          1627808400,
          1628326800,
          1628845200,
          1614330000,
          1614846600,
          1615365000,
          1628326800,
          1629363600,
          1629882000,
          1630400400,
          1643360400,
          1643878800,
          1644397200,
          1644397200,
          1658394000,
          1645434000,
          1660467600,
          1660986000,
          1615365000,
          1615883400,
          1629882000,
          1630400400,
          1630918800,
          1631953800,
          1616400000,
          1630398600,
          1630917000,
          1618473600,
          1631435400,
          1648024200,
          1648542600,
          1661504400,
          1649577600,
          1650096000,
          1650614400,
          1620547200,
          1621065600,
          1621584000,
          1618473600,
          1621584000,
          1622102400,
          1622620800,
          1622620800,
          1623139200,
          1623657600,
          1650614400,
          1651132800,
          1651651200,
          1651651200,
          1652169600,
          1652688000,
          1652688000,
          1675501200
         ],
         "y": [
          -20.5,
          -11,
          9.5,
          -0.5,
          -19,
          -9.5,
          -7,
          6,
          2,
          26.5,
          4.5,
          -3,
          19,
          12,
          36.5,
          14.5,
          7,
          -25.5,
          -12.5,
          -14,
          -16.5,
          -14,
          -21.5,
          -50.5,
          19.5,
          -2.5,
          -10,
          22,
          60,
          -7.5,
          -13,
          -20.5,
          -10,
          -11.5,
          -11.5,
          -19,
          -48,
          -46,
          1.5,
          1.5,
          -6,
          5,
          -7.5,
          -71,
          -62,
          -49.5,
          -60,
          -81.5,
          -62,
          -1.5,
          1.5,
          -9.5,
          -80.5,
          -10,
          -21,
          -31.5,
          -18,
          -28.5,
          -39.5,
          -72.5,
          -53,
          -48,
          -74.5,
          -69.5,
          -117,
          -50,
          143.5
         ]
        },
        {
         "hoverinfo": "text",
         "hovertext": [
          "2021-01-03",
          "2021-01-15",
          "2021-02-08",
          "2021-01-27",
          "2021-02-20",
          "2022-01-22",
          "2022-02-03",
          "2022-02-15",
          "2022-02-27",
          "2021-03-04",
          "2021-03-16",
          "2021-03-28",
          "2022-03-11",
          "2022-04-04",
          "2021-05-03",
          "2021-04-09",
          "2021-04-21",
          "2021-05-15",
          "2021-05-27",
          "2021-06-08",
          "2021-06-20",
          "2023-01-05",
          "2023-02-10",
          "2022-04-16",
          "2022-04-28",
          "2022-05-10",
          "2022-05-22",
          "2022-06-03",
          "2023-01-17",
          "2023-02-22"
         ],
         "marker": {
          "color": "rgba(32, 33, 32, 0.7)",
          "line": {
           "width": 0
          },
          "size": 15
         },
         "mode": "markers+text",
         "textposition": "top center",
         "type": "scatter",
         "x": [
          1609664400,
          1610701200,
          1612774800,
          1611738000,
          1613811600,
          1642842000,
          1643878800,
          1644915600,
          1645952400,
          1614848400,
          1615881600,
          1616918400,
          1646989200,
          1649059200,
          1620028800,
          1617955200,
          1618992000,
          1621065600,
          1622102400,
          1623139200,
          1624176000,
          1672909200,
          1676019600,
          1650096000,
          1651132800,
          1652169600,
          1653206400,
          1654243200,
          1673946000,
          1677056400
         ],
         "y": [
          -31,
          -10,
          9,
          29,
          -28,
          -5,
          44,
          0,
          -15,
          -23,
          3,
          0,
          -73,
          -69,
          10,
          -82,
          -79,
          -13,
          -7,
          -29,
          -50,
          76,
          -26,
          -51,
          -94,
          -55,
          -45,
          -140,
          161,
          126
         ]
        },
        {
         "hoverinfo": "text",
         "marker": {
          "color": "rgba(255,0,0,0.5)",
          "line": {
           "width": 2
          },
          "size": 10
         },
         "mode": "markers",
         "text": [
          "2022-03-23",
          "2023-01-29",
          "2022-01-10",
          "2022-06-15"
         ],
         "type": "scatter",
         "x": [
          1648022400,
          1674982800,
          1641805200,
          1655280000
         ],
         "y": [
          -147,
          -80,
          -65,
          70
         ]
        }
       ],
       "layout": {
        "height": 800,
        "hovermode": "closest",
        "margin": {
         "t": 180
        },
        "paper_bgcolor": "lightgrey",
        "plot_bgcolor": "white",
        "showlegend": false,
        "template": {
         "data": {
          "bar": [
           {
            "error_x": {
             "color": "#2a3f5f"
            },
            "error_y": {
             "color": "#2a3f5f"
            },
            "marker": {
             "line": {
              "color": "#E5ECF6",
              "width": 0.5
             },
             "pattern": {
              "fillmode": "overlay",
              "size": 10,
              "solidity": 0.2
             }
            },
            "type": "bar"
           }
          ],
          "barpolar": [
           {
            "marker": {
             "line": {
              "color": "#E5ECF6",
              "width": 0.5
             },
             "pattern": {
              "fillmode": "overlay",
              "size": 10,
              "solidity": 0.2
             }
            },
            "type": "barpolar"
           }
          ],
          "carpet": [
           {
            "aaxis": {
             "endlinecolor": "#2a3f5f",
             "gridcolor": "white",
             "linecolor": "white",
             "minorgridcolor": "white",
             "startlinecolor": "#2a3f5f"
            },
            "baxis": {
             "endlinecolor": "#2a3f5f",
             "gridcolor": "white",
             "linecolor": "white",
             "minorgridcolor": "white",
             "startlinecolor": "#2a3f5f"
            },
            "type": "carpet"
           }
          ],
          "choropleth": [
           {
            "colorbar": {
             "outlinewidth": 0,
             "ticks": ""
            },
            "type": "choropleth"
           }
          ],
          "contour": [
           {
            "colorbar": {
             "outlinewidth": 0,
             "ticks": ""
            },
            "colorscale": [
             [
              0,
              "#0d0887"
             ],
             [
              0.1111111111111111,
              "#46039f"
             ],
             [
              0.2222222222222222,
              "#7201a8"
             ],
             [
              0.3333333333333333,
              "#9c179e"
             ],
             [
              0.4444444444444444,
              "#bd3786"
             ],
             [
              0.5555555555555556,
              "#d8576b"
             ],
             [
              0.6666666666666666,
              "#ed7953"
             ],
             [
              0.7777777777777778,
              "#fb9f3a"
             ],
             [
              0.8888888888888888,
              "#fdca26"
             ],
             [
              1,
              "#f0f921"
             ]
            ],
            "type": "contour"
           }
          ],
          "contourcarpet": [
           {
            "colorbar": {
             "outlinewidth": 0,
             "ticks": ""
            },
            "type": "contourcarpet"
           }
          ],
          "heatmap": [
           {
            "colorbar": {
             "outlinewidth": 0,
             "ticks": ""
            },
            "colorscale": [
             [
              0,
              "#0d0887"
             ],
             [
              0.1111111111111111,
              "#46039f"
             ],
             [
              0.2222222222222222,
              "#7201a8"
             ],
             [
              0.3333333333333333,
              "#9c179e"
             ],
             [
              0.4444444444444444,
              "#bd3786"
             ],
             [
              0.5555555555555556,
              "#d8576b"
             ],
             [
              0.6666666666666666,
              "#ed7953"
             ],
             [
              0.7777777777777778,
              "#fb9f3a"
             ],
             [
              0.8888888888888888,
              "#fdca26"
             ],
             [
              1,
              "#f0f921"
             ]
            ],
            "type": "heatmap"
           }
          ],
          "histogram": [
           {
            "marker": {
             "pattern": {
              "fillmode": "overlay",
              "size": 10,
              "solidity": 0.2
             }
            },
            "type": "histogram"
           }
          ],
          "histogram2d": [
           {
            "colorbar": {
             "outlinewidth": 0,
             "ticks": ""
            },
            "colorscale": [
             [
              0,
              "#0d0887"
             ],
             [
              0.1111111111111111,
              "#46039f"
             ],
             [
              0.2222222222222222,
              "#7201a8"
             ],
             [
              0.3333333333333333,
              "#9c179e"
             ],
             [
              0.4444444444444444,
              "#bd3786"
             ],
             [
              0.5555555555555556,
              "#d8576b"
             ],
             [
              0.6666666666666666,
              "#ed7953"
             ],
             [
              0.7777777777777778,
              "#fb9f3a"
             ],
             [
              0.8888888888888888,
              "#fdca26"
             ],
             [
              1,
              "#f0f921"
             ]
            ],
            "type": "histogram2d"
           }
          ],
          "histogram2dcontour": [
           {
            "colorbar": {
             "outlinewidth": 0,
             "ticks": ""
            },
            "colorscale": [
             [
              0,
              "#0d0887"
             ],
             [
              0.1111111111111111,
              "#46039f"
             ],
             [
              0.2222222222222222,
              "#7201a8"
             ],
             [
              0.3333333333333333,
              "#9c179e"
             ],
             [
              0.4444444444444444,
              "#bd3786"
             ],
             [
              0.5555555555555556,
              "#d8576b"
             ],
             [
              0.6666666666666666,
              "#ed7953"
             ],
             [
              0.7777777777777778,
              "#fb9f3a"
             ],
             [
              0.8888888888888888,
              "#fdca26"
             ],
             [
              1,
              "#f0f921"
             ]
            ],
            "type": "histogram2dcontour"
           }
          ],
          "mesh3d": [
           {
            "colorbar": {
             "outlinewidth": 0,
             "ticks": ""
            },
            "type": "mesh3d"
           }
          ],
          "parcoords": [
           {
            "line": {
             "colorbar": {
              "outlinewidth": 0,
              "ticks": ""
             }
            },
            "type": "parcoords"
           }
          ],
          "pie": [
           {
            "automargin": true,
            "type": "pie"
           }
          ],
          "scatter": [
           {
            "fillpattern": {
             "fillmode": "overlay",
             "size": 10,
             "solidity": 0.2
            },
            "type": "scatter"
           }
          ],
          "scatter3d": [
           {
            "line": {
             "colorbar": {
              "outlinewidth": 0,
              "ticks": ""
             }
            },
            "marker": {
             "colorbar": {
              "outlinewidth": 0,
              "ticks": ""
             }
            },
            "type": "scatter3d"
           }
          ],
          "scattercarpet": [
           {
            "marker": {
             "colorbar": {
              "outlinewidth": 0,
              "ticks": ""
             }
            },
            "type": "scattercarpet"
           }
          ],
          "scattergeo": [
           {
            "marker": {
             "colorbar": {
              "outlinewidth": 0,
              "ticks": ""
             }
            },
            "type": "scattergeo"
           }
          ],
          "scattergl": [
           {
            "marker": {
             "colorbar": {
              "outlinewidth": 0,
              "ticks": ""
             }
            },
            "type": "scattergl"
           }
          ],
          "scattermap": [
           {
            "marker": {
             "colorbar": {
              "outlinewidth": 0,
              "ticks": ""
             }
            },
            "type": "scattermap"
           }
          ],
          "scattermapbox": [
           {
            "marker": {
             "colorbar": {
              "outlinewidth": 0,
              "ticks": ""
             }
            },
            "type": "scattermapbox"
           }
          ],
          "scatterpolar": [
           {
            "marker": {
             "colorbar": {
              "outlinewidth": 0,
              "ticks": ""
             }
            },
            "type": "scatterpolar"
           }
          ],
          "scatterpolargl": [
           {
            "marker": {
             "colorbar": {
              "outlinewidth": 0,
              "ticks": ""
             }
            },
            "type": "scatterpolargl"
           }
          ],
          "scatterternary": [
           {
            "marker": {
             "colorbar": {
              "outlinewidth": 0,
              "ticks": ""
             }
            },
            "type": "scatterternary"
           }
          ],
          "surface": [
           {
            "colorbar": {
             "outlinewidth": 0,
             "ticks": ""
            },
            "colorscale": [
             [
              0,
              "#0d0887"
             ],
             [
              0.1111111111111111,
              "#46039f"
             ],
             [
              0.2222222222222222,
              "#7201a8"
             ],
             [
              0.3333333333333333,
              "#9c179e"
             ],
             [
              0.4444444444444444,
              "#bd3786"
             ],
             [
              0.5555555555555556,
              "#d8576b"
             ],
             [
              0.6666666666666666,
              "#ed7953"
             ],
             [
              0.7777777777777778,
              "#fb9f3a"
             ],
             [
              0.8888888888888888,
              "#fdca26"
             ],
             [
              1,
              "#f0f921"
             ]
            ],
            "type": "surface"
           }
          ],
          "table": [
           {
            "cells": {
             "fill": {
              "color": "#EBF0F8"
             },
             "line": {
              "color": "white"
             }
            },
            "header": {
             "fill": {
              "color": "#C8D4E3"
             },
             "line": {
              "color": "white"
             }
            },
            "type": "table"
           }
          ]
         },
         "layout": {
          "annotationdefaults": {
           "arrowcolor": "#2a3f5f",
           "arrowhead": 0,
           "arrowwidth": 1
          },
          "autotypenumbers": "strict",
          "coloraxis": {
           "colorbar": {
            "outlinewidth": 0,
            "ticks": ""
           }
          },
          "colorscale": {
           "diverging": [
            [
             0,
             "#8e0152"
            ],
            [
             0.1,
             "#c51b7d"
            ],
            [
             0.2,
             "#de77ae"
            ],
            [
             0.3,
             "#f1b6da"
            ],
            [
             0.4,
             "#fde0ef"
            ],
            [
             0.5,
             "#f7f7f7"
            ],
            [
             0.6,
             "#e6f5d0"
            ],
            [
             0.7,
             "#b8e186"
            ],
            [
             0.8,
             "#7fbc41"
            ],
            [
             0.9,
             "#4d9221"
            ],
            [
             1,
             "#276419"
            ]
           ],
           "sequential": [
            [
             0,
             "#0d0887"
            ],
            [
             0.1111111111111111,
             "#46039f"
            ],
            [
             0.2222222222222222,
             "#7201a8"
            ],
            [
             0.3333333333333333,
             "#9c179e"
            ],
            [
             0.4444444444444444,
             "#bd3786"
            ],
            [
             0.5555555555555556,
             "#d8576b"
            ],
            [
             0.6666666666666666,
             "#ed7953"
            ],
            [
             0.7777777777777778,
             "#fb9f3a"
            ],
            [
             0.8888888888888888,
             "#fdca26"
            ],
            [
             1,
             "#f0f921"
            ]
           ],
           "sequentialminus": [
            [
             0,
             "#0d0887"
            ],
            [
             0.1111111111111111,
             "#46039f"
            ],
            [
             0.2222222222222222,
             "#7201a8"
            ],
            [
             0.3333333333333333,
             "#9c179e"
            ],
            [
             0.4444444444444444,
             "#bd3786"
            ],
            [
             0.5555555555555556,
             "#d8576b"
            ],
            [
             0.6666666666666666,
             "#ed7953"
            ],
            [
             0.7777777777777778,
             "#fb9f3a"
            ],
            [
             0.8888888888888888,
             "#fdca26"
            ],
            [
             1,
             "#f0f921"
            ]
           ]
          },
          "colorway": [
           "#636efa",
           "#EF553B",
           "#00cc96",
           "#ab63fa",
           "#FFA15A",
           "#19d3f3",
           "#FF6692",
           "#B6E880",
           "#FF97FF",
           "#FECB52"
          ],
          "font": {
           "color": "#2a3f5f"
          },
          "geo": {
           "bgcolor": "white",
           "lakecolor": "white",
           "landcolor": "#E5ECF6",
           "showlakes": true,
           "showland": true,
           "subunitcolor": "white"
          },
          "hoverlabel": {
           "align": "left"
          },
          "hovermode": "closest",
          "mapbox": {
           "style": "light"
          },
          "paper_bgcolor": "white",
          "plot_bgcolor": "#E5ECF6",
          "polar": {
           "angularaxis": {
            "gridcolor": "white",
            "linecolor": "white",
            "ticks": ""
           },
           "bgcolor": "#E5ECF6",
           "radialaxis": {
            "gridcolor": "white",
            "linecolor": "white",
            "ticks": ""
           }
          },
          "scene": {
           "xaxis": {
            "backgroundcolor": "#E5ECF6",
            "gridcolor": "white",
            "gridwidth": 2,
            "linecolor": "white",
            "showbackground": true,
            "ticks": "",
            "zerolinecolor": "white"
           },
           "yaxis": {
            "backgroundcolor": "#E5ECF6",
            "gridcolor": "white",
            "gridwidth": 2,
            "linecolor": "white",
            "showbackground": true,
            "ticks": "",
            "zerolinecolor": "white"
           },
           "zaxis": {
            "backgroundcolor": "#E5ECF6",
            "gridcolor": "white",
            "gridwidth": 2,
            "linecolor": "white",
            "showbackground": true,
            "ticks": "",
            "zerolinecolor": "white"
           }
          },
          "shapedefaults": {
           "line": {
            "color": "#2a3f5f"
           }
          },
          "ternary": {
           "aaxis": {
            "gridcolor": "white",
            "linecolor": "white",
            "ticks": ""
           },
           "baxis": {
            "gridcolor": "white",
            "linecolor": "white",
            "ticks": ""
           },
           "bgcolor": "#E5ECF6",
           "caxis": {
            "gridcolor": "white",
            "linecolor": "white",
            "ticks": ""
           }
          },
          "title": {
           "x": 0.05
          },
          "xaxis": {
           "automargin": true,
           "gridcolor": "white",
           "linecolor": "white",
           "ticks": "",
           "title": {
            "standoff": 15
           },
           "zerolinecolor": "white",
           "zerolinewidth": 2
          },
          "yaxis": {
           "automargin": true,
           "gridcolor": "white",
           "linecolor": "white",
           "ticks": "",
           "title": {
            "standoff": 15
           },
           "zerolinecolor": "white",
           "zerolinewidth": 2
          }
         }
        },
        "title": {
         "font": {
          "family": "Helvetica, monospace",
          "size": 22
         },
         "text": "<b>Sentinel-1 Seasonal SBAS Stack</b><br>",
         "x": 0.5,
         "xanchor": "center",
         "y": 0.95,
         "yanchor": "top"
        },
        "xaxis": {
         "gridcolor": "gray",
         "ticktext": [
          "2021-01",
          "2021-02",
          "2021-03",
          "2021-04",
          "2021-05",
          "2021-06",
          "2021-07",
          "2021-08",
          "2021-09",
          "2021-10",
          "2021-11",
          "2021-12",
          "2022-01",
          "2022-02",
          "2022-03",
          "2022-04",
          "2022-05",
          "2022-06",
          "2022-07",
          "2022-08",
          "2022-09",
          "2022-10",
          "2022-11",
          "2022-12",
          "2023-01",
          "2023-02",
          "2023-03"
         ],
         "tickvals": [
          1609491600,
          1612170000,
          1614589200,
          1617264000,
          1619856000,
          1622534400,
          1625126400,
          1627804800,
          1630483200,
          1633075200,
          1635753600,
          1638349200,
          1641027600,
          1643706000,
          1646125200,
          1648800000,
          1651392000,
          1654070400,
          1656662400,
          1659340800,
          1662019200,
          1664611200,
          1667289600,
          1669885200,
          1672563600,
          1675242000,
          1677661200
         ],
         "title": {
          "text": "Acquisition Date"
         },
         "zerolinecolor": "gray"
        },
        "yaxis": {
         "gridcolor": "gray",
         "title": {
          "text": "Perpendicular Baseline (m)"
         },
         "zerolinecolor": "gray"
        }
       }
      }
     },
     "metadata": {},
     "output_type": "display_data"
    }
   ],
   "source": [
    "a = network.plot()"
   ]
  },
  {
   "cell_type": "code",
   "execution_count": null,
   "id": "c3581859",
   "metadata": {},
   "outputs": [],
   "source": []
  }
 ],
 "metadata": {
  "kernelspec": {
   "display_name": "asf_search_2",
   "language": "python",
   "name": "python3"
  },
  "language_info": {
   "codemirror_mode": {
    "name": "ipython",
    "version": 3
   },
   "file_extension": ".py",
   "mimetype": "text/x-python",
   "name": "python",
   "nbconvert_exporter": "python",
   "pygments_lexer": "ipython3",
   "version": "3.13.3"
  },
  "toc-autonumbering": false
 },
 "nbformat": 4,
 "nbformat_minor": 5
}
