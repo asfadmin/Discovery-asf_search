{
 "cells": [
  {
   "cell_type": "code",
   "execution_count": 1,
   "id": "7fa9e873",
   "metadata": {},
   "outputs": [],
   "source": [
    "%load_ext autoreload\n",
    "%autoreload 2"
   ]
  },
  {
   "cell_type": "markdown",
   "id": "78c19e76",
   "metadata": {},
   "source": [
    "# Pair\n",
    "\n",
    "### Search for some products from which to build pairs and stacks of pairs"
   ]
  },
  {
   "cell_type": "code",
   "execution_count": 2,
   "id": "52144455-af61-4f36-b35b-57a04683ebb1",
   "metadata": {
    "scrolled": true,
    "tags": []
   },
   "outputs": [],
   "source": [
    "import asf_search as asf\n",
    "\n",
    "asf.constants.INTERNAL.CMR_TIMEOUT = 90\n",
    "\n",
    "results = asf.product_search('S1A_IW_SLC__1SDV_20220215T225119_20220215T225146_041930_04FE2E_9252-SLC')\n",
    "# results = asf.product_search('S1_181296_IW1_20220219T125501_VV_10AF-BURST')\n",
    "reference = results[0]\n",
    "\n",
    "args = asf.ASFSearchOptions(\n",
    "    **{\"start\": '2022-02-10', \"end\": '2022-07-01'}\n",
    ")\n",
    "s = reference.stack(args)"
   ]
  },
  {
   "cell_type": "markdown",
   "id": "8a0920dc",
   "metadata": {},
   "source": [
    "### Create a Pair object from 2 products"
   ]
  },
  {
   "cell_type": "code",
   "execution_count": 3,
   "id": "2b27e862",
   "metadata": {},
   "outputs": [
    {
     "name": "stdout",
     "output_type": "stream",
     "text": [
      "pair.ref.properties['sceneName']: S1A_IW_SLC__1SDV_20220215T225119_20220215T225146_041930_04FE2E_9252\n",
      "pair.ref_date: 2022-02-15\n",
      "\n",
      "pair.sec.properties['sceneName']: S1A_IW_SLC__1SDV_20220311T225119_20220311T225146_042280_050A1F_B99E\n",
      "pair.sec_date: 2022-03-11\n",
      "\n",
      "pair.temporal: 24 days, 0:00:00\n",
      "pair.perpendicular: -73\n"
     ]
    }
   ],
   "source": [
    "pair = asf.Pair(reference, s[2])\n",
    "\n",
    "print(f\"pair.ref.properties['sceneName']: {pair.ref.properties['sceneName']}\")\n",
    "print(f\"pair.ref_date: {pair.ref_date}\\n\")\n",
    "\n",
    "print(f\"pair.sec.properties['sceneName']: {pair.sec.properties['sceneName']}\")\n",
    "print(f\"pair.sec_date: {pair.sec_date}\\n\")\n",
    "\n",
    "print(f\"pair.temporal: {pair.temporal}\")\n",
    "print(f\"pair.perpendicular: {pair.perpendicular}\")"
   ]
  },
  {
   "cell_type": "markdown",
   "id": "d599ee41",
   "metadata": {},
   "source": [
    "### Check the estimated coherence of the pair"
   ]
  },
  {
   "cell_type": "code",
   "execution_count": null,
   "id": "9b85de54",
   "metadata": {},
   "outputs": [],
   "source": [
    "pair.estimate_s1_mean_coherence()"
   ]
  },
  {
   "cell_type": "markdown",
   "id": "77bb1b26",
   "metadata": {},
   "source": [
    "### Create a new pair with a long temporal baseline"
   ]
  },
  {
   "cell_type": "code",
   "execution_count": null,
   "id": "1a0c0ca1",
   "metadata": {},
   "outputs": [],
   "source": [
    "long_pair = pair = asf.Pair(reference, s[10])\n",
    "print(f\"long_pair.temporal: {long_pair.temporal}\")"
   ]
  },
  {
   "cell_type": "markdown",
   "id": "2c266f26",
   "metadata": {},
   "source": [
    "### Since the temporal baseline is greater than 48, an exception is raised when checking coherence"
   ]
  },
  {
   "cell_type": "code",
   "execution_count": null,
   "id": "9d66a395",
   "metadata": {},
   "outputs": [],
   "source": [
    "long_pair.estimate_s1_mean_coherence()"
   ]
  },
  {
   "cell_type": "markdown",
   "id": "50c465f1",
   "metadata": {},
   "source": [
    "### Demonstrate pair equivalence\n",
    "\n",
    "Two pairs are equal if they both share the same reference and secondary dates."
   ]
  },
  {
   "cell_type": "code",
   "execution_count": null,
   "id": "5df76460",
   "metadata": {},
   "outputs": [],
   "source": [
    "from copy import deepcopy\n",
    "\n",
    "a = deepcopy(pair)\n",
    "b = deepcopy(pair)\n",
    "c = asf.Pair(reference, s[1])\n",
    "print(f\"a.ref_date: {a.ref_date}, a.sec_date: {a.sec_date}\")\n",
    "print(f\"b.ref_date: {b.ref_date}, b.sec_date: {b.sec_date}\")\n",
    "print(f\"c.ref_date: {c.ref_date}, c.sec_date: {c.sec_date}\")\n",
    "print(f\"a == b: {a == b}\")\n",
    "print(f\"a == c: {a == c}\")"
   ]
  },
  {
   "cell_type": "markdown",
   "id": "3fe746e6",
   "metadata": {},
   "source": [
    "# Stack\n",
    "\n",
    "### Create a Stack from the reference scene object instantiated above\n",
    "\n",
    "Stack accepts ASFSearchOptions, which are used in a stack_from_product search"
   ]
  },
  {
   "cell_type": "code",
   "execution_count": null,
   "id": "1c07d0c5",
   "metadata": {},
   "outputs": [],
   "source": [
    "args = asf.ASFSearchOptions(\n",
    "    **{\"start\": '2022-01-01', \"end\": '2022-03-02'}\n",
    ")\n",
    "\n",
    "stack = asf.Stack(reference, opts=args)\n",
    "stack.full_stack"
   ]
  },
  {
   "cell_type": "markdown",
   "id": "7e3373bf",
   "metadata": {},
   "source": [
    "### Remove pairs from the full stack, identifying them by ref and sec dates\n",
    "\n",
    "Both full_stack and subset_stack contain the same Pair objects, so keeping both stacks does not eat up a ton of extra memory"
   ]
  },
  {
   "cell_type": "code",
   "execution_count": null,
   "id": "eceba660",
   "metadata": {},
   "outputs": [],
   "source": [
    "import numpy as np\n",
    "import pandas as pd\n",
    "import datetime\n",
    "\n",
    "stack.remove_pairs([\n",
    "    (datetime.date(2022, 1, 10), datetime.date(2022, 1, 22)), # datetime.date\n",
    "    (pd.to_datetime(\"2022-1-10\"), pd.to_datetime(\"2022- 2-3\")), # pandas.Timestamp\n",
    "    (\"2022-01-10\", \"2022-02-15\"), # isoformat string\n",
    "    (np.datetime64(\"2022-01-10\"), np.datetime64(\"2022-02-27\")) # numpy.datetime64\n",
    "])\n",
    "\n",
    "stack.remove_list"
   ]
  },
  {
   "cell_type": "markdown",
   "id": "3b681d57",
   "metadata": {},
   "source": [
    "### Look at subset_stack, after having removed some pairs from full_stack"
   ]
  },
  {
   "cell_type": "code",
   "execution_count": null,
   "id": "35c504f2",
   "metadata": {},
   "outputs": [],
   "source": [
    "stack.subset_stack"
   ]
  },
  {
   "cell_type": "markdown",
   "id": "2e35ead5",
   "metadata": {},
   "source": [
    "### Look at connected_substacks\n",
    "\n",
    "If subset_stack is disconnected, its component stacks are stored in connected_substacks.\n",
    "\n",
    "Since we have not yet done anything to disconnect the subset_stack, this list contains only one item.\n",
    "\n",
    "When we use the Network class to make SBAS stacks, we may have multiple connected substacks.\n",
    "\n"
   ]
  },
  {
   "cell_type": "code",
   "execution_count": null,
   "id": "650e11a7",
   "metadata": {},
   "outputs": [],
   "source": [
    "stack.connected_substacks"
   ]
  },
  {
   "cell_type": "markdown",
   "id": "dd65a51b",
   "metadata": {},
   "source": [
    "## Network\n",
    "\n",
    "Create a Network from the same reference scene. \n",
    "\n",
    "Attempts to create a connected, seasonal SBAS stack based on:\n",
    "- georeference scene\n",
    "- season\n",
    "- start date\n",
    "- end date\n",
    "- perpendicular baseline\n",
    "- temporal baseline\n",
    "  "
   ]
  },
  {
   "cell_type": "code",
   "execution_count": 5,
   "id": "916560c1",
   "metadata": {},
   "outputs": [
    {
     "name": "stdout",
     "output_type": "stream",
     "text": [
      "len(network.full_stack): 3195\n",
      "len(network.remove_list): 3033\n",
      "len(network.subset_stack): 162\n",
      "len(network.connected_substacks): 4\n"
     ]
    }
   ],
   "source": [
    "import pandas as pd\n",
    "from datetime import datetime\n",
    "\n",
    "def get_julian_season(self) -> tuple[int,int]:\n",
    "    season_start_ts = pd.Timestamp(\n",
    "        datetime.strptime(f\"{season[0]}-0001\", \"%m-%d-%Y\"), tz=\"UTC\"\n",
    "        )\n",
    "    season_start_day = season_start_ts.timetuple().tm_yday\n",
    "    season_end_ts = pd.Timestamp(\n",
    "        datetime.strptime(f\"{season[1]}-0001\", \"%m-%d-%Y\"), tz=\"UTC\"\n",
    "    )\n",
    "    season_end_day = season_end_ts.timetuple().tm_yday\n",
    "    return (season_start_day, season_end_day)\n",
    "\n",
    "season = (\"1-1\", \"6-25\")\n",
    "\n",
    "opts = asf.ASFSearchOptions(\n",
    "    **{\n",
    "        \"start\": '2014-01-01', \n",
    "        \"end\": '2025-10-02', \n",
    "        \"season\": get_julian_season(season)\n",
    "        }\n",
    ")\n",
    "\n",
    "network = asf.Network(\n",
    "    geo_reference = reference,\n",
    "    # multiburst_dict = {1:1},\n",
    "    perp_baseline=200, \n",
    "    inseason_temporal_baseline=12,\n",
    "    bridge_target_date='3-1',\n",
    "    bridge_year_threshold=2,\n",
    "    opts=opts)\n",
    "\n",
    "print(f\"len(network.full_stack): {len(network.full_stack)}\")\n",
    "print(f\"len(network.remove_list): {len(network.remove_list)}\")\n",
    "print(f\"len(network.subset_stack): {len(network.subset_stack)}\")\n",
    "print(f\"len(network.connected_substacks): {len(network.connected_substacks)}\")"
   ]
  },
  {
   "cell_type": "code",
   "execution_count": null,
   "id": "90d6a341",
   "metadata": {},
   "outputs": [],
   "source": [
    "network.plot()"
   ]
  },
  {
   "cell_type": "code",
   "execution_count": null,
   "id": "31f45c4f",
   "metadata": {},
   "outputs": [],
   "source": [
    "network.plot(network.full_stack)"
   ]
  },
  {
   "cell_type": "markdown",
   "id": "67eda901",
   "metadata": {},
   "source": [
    "### Create an updated network with shorter baselines"
   ]
  },
  {
   "cell_type": "code",
   "execution_count": null,
   "id": "eaa9f6ee",
   "metadata": {},
   "outputs": [],
   "source": [
    "network = asf.Network(\n",
    "    reference,\n",
    "    perp_baseline=50, \n",
    "    inseason_temporal_baseline=12,\n",
    "    bridge_target_date='3-1',\n",
    "    bridge_year_threshold=2,\n",
    "    opts=opts)\n",
    "\n",
    "network.plot()"
   ]
  },
  {
   "cell_type": "markdown",
   "id": "e3e9b132",
   "metadata": {},
   "source": [
    "### Create an updated network with longer baselines"
   ]
  },
  {
   "cell_type": "code",
   "execution_count": null,
   "id": "24d29dd9",
   "metadata": {},
   "outputs": [],
   "source": [
    "network = asf.Network(\n",
    "    reference,\n",
    "    perp_baseline=200, \n",
    "    inseason_temporal_baseline=24,\n",
    "    bridge_target_date='3-1',\n",
    "    bridge_year_threshold=2,\n",
    "    opts=opts)\n",
    "\n",
    "network.plot()"
   ]
  },
  {
   "cell_type": "markdown",
   "id": "7fb33cb4",
   "metadata": {},
   "source": [
    "### Plot full_stack\n",
    "\n",
    "You can pass an any member stack (or list of member stacks) to the plot function."
   ]
  },
  {
   "cell_type": "code",
   "execution_count": null,
   "id": "a9e24fae",
   "metadata": {},
   "outputs": [],
   "source": [
    "network.plot(stack_dict=network.full_stack)"
   ]
  },
  {
   "cell_type": "markdown",
   "id": "69b31dab",
   "metadata": {},
   "source": [
    "### Call `Stack.get_insar_pair_ids()` on the largest connected substack\n",
    "\n",
    "Provides the data structure you want when ordering GAMMA or single-burst interferograms from HyP3"
   ]
  },
  {
   "cell_type": "code",
   "execution_count": null,
   "id": "1e82dd24",
   "metadata": {},
   "outputs": [],
   "source": [
    "network.get_insar_pair_ids()"
   ]
  },
  {
   "cell_type": "markdown",
   "id": "65285887",
   "metadata": {},
   "source": [
    "### `Stack.get_insar_pair_ids()` defaults to using the largest connected substack, but you can pass it any member stack"
   ]
  },
  {
   "cell_type": "code",
   "execution_count": null,
   "id": "d2c62c30",
   "metadata": {},
   "outputs": [],
   "source": [
    "print(len(network.get_insar_pair_ids()))\n",
    "print(len(network.get_insar_pair_ids(network.full_stack)))"
   ]
  },
  {
   "cell_type": "markdown",
   "id": "6ccf3283",
   "metadata": {},
   "source": [
    "### MultiBurst Class"
   ]
  },
  {
   "cell_type": "code",
   "execution_count": 109,
   "id": "1a710e83",
   "metadata": {},
   "outputs": [
    {
     "data": {
      "text/plain": [
       "<asf_search.MultiBurst.MultiBurst at 0x118928c50>"
      ]
     },
     "execution_count": 109,
     "metadata": {},
     "output_type": "execute_result"
    }
   ],
   "source": [
    "# 3x3 adjactent bursts\n",
    "# Should pass\n",
    "\n",
    "multiburst_dict = {\n",
    "    \"173_370305\": (\"IW1\", \"IW2\", \"IW3\"),\n",
    "    \"173_370306\": (\"IW1\", \"IW2\", \"IW3\"),\n",
    "    \"173_370307\": (\"IW1\", \"IW2\", \"IW3\")\n",
    "}\n",
    "\n",
    "asf.MultiBurst(multiburst_dict)"
   ]
  },
  {
   "cell_type": "code",
   "execution_count": 117,
   "id": "426a9b31",
   "metadata": {},
   "outputs": [
    {
     "data": {
      "text/plain": [
       "['IW1', 'IW2', 'IW3', 'IW1', 'IW2', 'IW3', 'IW1', 'IW2', 'IW3']"
      ]
     },
     "execution_count": 117,
     "metadata": {},
     "output_type": "execute_result"
    }
   ],
   "source": [
    "[i for j in multiburst_dict.values() for i in j]"
   ]
  },
  {
   "cell_type": "code",
   "execution_count": 126,
   "id": "1f354edc",
   "metadata": {},
   "outputs": [
    {
     "data": {
      "text/plain": [
       "['173_370305_IW1',\n",
       " '173_370305_IW2',\n",
       " '173_370305_IW3',\n",
       " '173_370306_IW1',\n",
       " '173_370306_IW2',\n",
       " '173_370306_IW3',\n",
       " '173_370307_IW1',\n",
       " '173_370307_IW2',\n",
       " '173_370307_IW3']"
      ]
     },
     "execution_count": 126,
     "metadata": {},
     "output_type": "execute_result"
    }
   ],
   "source": [
    "[f\"{burst}_{swath}\" for burst, swaths in multiburst_dict.items() for swath in swaths]"
   ]
  },
  {
   "cell_type": "code",
   "execution_count": 112,
   "id": "d896fabb",
   "metadata": {},
   "outputs": [
    {
     "data": {
      "text/plain": [
       "{'173_370305': ('IW1', 'IW2', 'IW3'),\n",
       " '173_370306': ('IW1', 'IW2', 'IW3'),\n",
       " '173_370307': ('IW1', 'IW2', 'IW3')}"
      ]
     },
     "execution_count": 112,
     "metadata": {},
     "output_type": "execute_result"
    }
   ],
   "source": [
    "multiburst_dict"
   ]
  },
  {
   "cell_type": "code",
   "execution_count": null,
   "id": "63141cab",
   "metadata": {},
   "outputs": [],
   "source": []
  },
  {
   "cell_type": "code",
   "execution_count": 80,
   "id": "d609ba9e",
   "metadata": {},
   "outputs": [
    {
     "ename": "Exception",
     "evalue": "All bursts must belong to the same orbital path.\nmultiburst_dict contains burst with the following paths: {'173', '100'}",
     "output_type": "error",
     "traceback": [
      "\u001b[31m---------------------------------------------------------------------------\u001b[39m",
      "\u001b[31mException\u001b[39m                                 Traceback (most recent call last)",
      "\u001b[36mCell\u001b[39m\u001b[36m \u001b[39m\u001b[32mIn[80]\u001b[39m\u001b[32m, line 10\u001b[39m\n\u001b[32m      1\u001b[39m \u001b[38;5;66;03m# 3x3 adjactent bursts, but crosses orbital paths\u001b[39;00m\n\u001b[32m      2\u001b[39m \u001b[38;5;66;03m# should fail\u001b[39;00m\n\u001b[32m      4\u001b[39m multiburst_dict = {\n\u001b[32m      5\u001b[39m     \u001b[33m\"\u001b[39m\u001b[33m173_370305\u001b[39m\u001b[33m\"\u001b[39m: (\u001b[33m\"\u001b[39m\u001b[33mIW1\u001b[39m\u001b[33m\"\u001b[39m, \u001b[33m\"\u001b[39m\u001b[33mIW2\u001b[39m\u001b[33m\"\u001b[39m, \u001b[33m\"\u001b[39m\u001b[33mIW3\u001b[39m\u001b[33m\"\u001b[39m),\n\u001b[32m      6\u001b[39m     \u001b[33m\"\u001b[39m\u001b[33m173_370306\u001b[39m\u001b[33m\"\u001b[39m: (\u001b[33m\"\u001b[39m\u001b[33mIW1\u001b[39m\u001b[33m\"\u001b[39m, \u001b[33m\"\u001b[39m\u001b[33mIW2\u001b[39m\u001b[33m\"\u001b[39m, \u001b[33m\"\u001b[39m\u001b[33mIW3\u001b[39m\u001b[33m\"\u001b[39m),\n\u001b[32m      7\u001b[39m     \u001b[33m\"\u001b[39m\u001b[33m100_213509\u001b[39m\u001b[33m\"\u001b[39m: (\u001b[33m\"\u001b[39m\u001b[33mIW1\u001b[39m\u001b[33m\"\u001b[39m, \u001b[33m\"\u001b[39m\u001b[33mIW2\u001b[39m\u001b[33m\"\u001b[39m, \u001b[33m\"\u001b[39m\u001b[33mIW3\u001b[39m\u001b[33m\"\u001b[39m)\n\u001b[32m      8\u001b[39m }\n\u001b[32m---> \u001b[39m\u001b[32m10\u001b[39m \u001b[43masf\u001b[49m\u001b[43m.\u001b[49m\u001b[43mMultiBurst\u001b[49m\u001b[43m(\u001b[49m\u001b[43mmultiburst_dict\u001b[49m\u001b[43m)\u001b[49m\n",
      "\u001b[36mFile \u001b[39m\u001b[32m<string>:4\u001b[39m, in \u001b[36m__init__\u001b[39m\u001b[34m(self, multiburst_dict)\u001b[39m\n",
      "\u001b[36mFile \u001b[39m\u001b[32m<string>:15\u001b[39m, in \u001b[36m_validate_multi_burst_dict\u001b[39m\u001b[34m(self)\u001b[39m\n",
      "\u001b[31mException\u001b[39m: All bursts must belong to the same orbital path.\nmultiburst_dict contains burst with the following paths: {'173', '100'}"
     ]
    }
   ],
   "source": [
    "# 3x3 adjactent bursts, but crosses orbital paths\n",
    "# should fail\n",
    "\n",
    "multiburst_dict = {\n",
    "    \"173_370305\": (\"IW1\", \"IW2\", \"IW3\"),\n",
    "    \"173_370306\": (\"IW1\", \"IW2\", \"IW3\"),\n",
    "    \"100_213509\": (\"IW1\", \"IW2\", \"IW3\")\n",
    "}\n",
    "\n",
    "asf.MultiBurst(multiburst_dict)"
   ]
  },
  {
   "cell_type": "code",
   "execution_count": 157,
   "id": "e31ea7ca",
   "metadata": {},
   "outputs": [
    {
     "ename": "Exception",
     "evalue": "Multiburst collections must be comprised of a single connected component and have no holes.\nConnected Components: 2, Holes: 1",
     "output_type": "error",
     "traceback": [
      "\u001b[31m---------------------------------------------------------------------------\u001b[39m",
      "\u001b[31mException\u001b[39m                                 Traceback (most recent call last)",
      "\u001b[36mCell\u001b[39m\u001b[36m \u001b[39m\u001b[32mIn[157]\u001b[39m\u001b[32m, line 14\u001b[39m\n\u001b[32m      1\u001b[39m \u001b[38;5;66;03m# Contains disconnected bursts and a hole\u001b[39;00m\n\u001b[32m      2\u001b[39m \u001b[38;5;66;03m# Should fail\u001b[39;00m\n\u001b[32m      4\u001b[39m multiburst_dict = {\n\u001b[32m      5\u001b[39m     \u001b[33m\"\u001b[39m\u001b[33m173_370305\u001b[39m\u001b[33m\"\u001b[39m: (\u001b[33m\"\u001b[39m\u001b[33mIW1\u001b[39m\u001b[33m\"\u001b[39m, \u001b[33m\"\u001b[39m\u001b[33mIW2\u001b[39m\u001b[33m\"\u001b[39m, \u001b[33m\"\u001b[39m\u001b[33mIW3\u001b[39m\u001b[33m\"\u001b[39m),\n\u001b[32m      6\u001b[39m     \u001b[33m\"\u001b[39m\u001b[33m173_370306\u001b[39m\u001b[33m\"\u001b[39m: (\u001b[33m\"\u001b[39m\u001b[33mIW1\u001b[39m\u001b[33m\"\u001b[39m, \u001b[33m\"\u001b[39m\u001b[33mIW2\u001b[39m\u001b[33m\"\u001b[39m, \u001b[33m\"\u001b[39m\u001b[33mIW3\u001b[39m\u001b[33m\"\u001b[39m),\n\u001b[32m   (...)\u001b[39m\u001b[32m     11\u001b[39m     \u001b[33m\"\u001b[39m\u001b[33m173_370311\u001b[39m\u001b[33m\"\u001b[39m: (\u001b[33m\"\u001b[39m\u001b[33mIW1\u001b[39m\u001b[33m\"\u001b[39m, \u001b[33m\"\u001b[39m\u001b[33mIW2\u001b[39m\u001b[33m\"\u001b[39m, \u001b[33m\"\u001b[39m\u001b[33mIW3\u001b[39m\u001b[33m\"\u001b[39m)\n\u001b[32m     12\u001b[39m }\n\u001b[32m---> \u001b[39m\u001b[32m14\u001b[39m mb = \u001b[43masf\u001b[49m\u001b[43m.\u001b[49m\u001b[43mMultiBurst\u001b[49m\u001b[43m(\u001b[49m\u001b[43mmultiburst_dict\u001b[49m\u001b[43m)\u001b[49m\n",
      "\u001b[36mFile \u001b[39m\u001b[32m<string>:4\u001b[39m, in \u001b[36m__init__\u001b[39m\u001b[34m(self, multiburst_dict)\u001b[39m\n",
      "\u001b[36mFile \u001b[39m\u001b[32m<string>:18\u001b[39m, in \u001b[36m_validate_multi_burst_dict\u001b[39m\u001b[34m(self)\u001b[39m\n",
      "\u001b[31mException\u001b[39m: Multiburst collections must be comprised of a single connected component and have no holes.\nConnected Components: 2, Holes: 1"
     ]
    }
   ],
   "source": [
    "# Contains disconnected bursts and a hole\n",
    "# Should fail\n",
    "\n",
    "multiburst_dict = {\n",
    "    \"173_370305\": (\"IW1\", \"IW2\", \"IW3\"),\n",
    "    \"173_370306\": (\"IW1\", \"IW2\", \"IW3\"),\n",
    "    \"173_370307\": (\"IW1\", ),\n",
    "    \"173_370308\": ( \"IW3\",),\n",
    "    \"173_370309\": (\"IW1\", \"IW2\", \"IW3\"),\n",
    "    \"173_370310\": (\"IW1\", \"IW3\"),\n",
    "    \"173_370311\": (\"IW1\", \"IW2\", \"IW3\")\n",
    "}\n",
    "\n",
    "mb = asf.MultiBurst(multiburst_dict)"
   ]
  },
  {
   "cell_type": "code",
   "execution_count": 164,
   "id": "e6b8dfa6",
   "metadata": {},
   "outputs": [
    {
     "data": {
      "text/plain": [
       "<asf_search.MultiBurst.MultiBurst at 0x115878a10>"
      ]
     },
     "execution_count": 164,
     "metadata": {},
     "output_type": "execute_result"
    }
   ],
   "source": [
    "# Diagonal line of bursts\n",
    "# Should pass\n",
    "\n",
    "multiburst_dict = {\n",
    "    \"173_370305\": (\"IW1\",),\n",
    "    \"173_370306\": (\"IW2\",),\n",
    "    \"173_370307\": (\"IW3\",),\n",
    "}\n",
    "\n",
    "asf.MultiBurst(multiburst_dict)\n"
   ]
  },
  {
   "cell_type": "code",
   "execution_count": null,
   "id": "3a5baa0b",
   "metadata": {},
   "outputs": [
    {
     "data": {
      "text/plain": [
       "<asf_search.MultiBurst.MultiBurst at 0x1189c78f0>"
      ]
     },
     "execution_count": 85,
     "metadata": {},
     "output_type": "execute_result"
    }
   ],
   "source": [
    "# \"Vertical\" zigzag line of bursts\n",
    "# Should pass (but will currently fail when ordering from HyP3)\n",
    "\n",
    "multiburst_dict = {\n",
    "    \"173_370305\": (\"IW1\",),\n",
    "    \"173_370306\": (\"IW2\",),\n",
    "    \"173_370307\": (\"IW1\"),\n",
    "}\n",
    "\n",
    "asf.MultiBurst(multiburst_dict)"
   ]
  },
  {
   "cell_type": "code",
   "execution_count": 87,
   "id": "6b7d8d5a",
   "metadata": {},
   "outputs": [
    {
     "data": {
      "text/plain": [
       "<asf_search.MultiBurst.MultiBurst at 0x11892a330>"
      ]
     },
     "execution_count": 87,
     "metadata": {},
     "output_type": "execute_result"
    }
   ],
   "source": [
    "# \"Horizontal\" zigzag line of bursts\n",
    "# Should pass (but will currently fail when ordering from HyP3)\n",
    "\n",
    "multiburst_dict = {\n",
    "    \"173_370305\": (\"IW1\", \"IW3\"),\n",
    "    \"173_370306\": (\"IW2\",)\n",
    "}\n",
    "\n",
    "asf.MultiBurst(multiburst_dict)\n"
   ]
  },
  {
   "cell_type": "code",
   "execution_count": 169,
   "id": "268b6d69",
   "metadata": {},
   "outputs": [
    {
     "ename": "Exception",
     "evalue": "No bursts can intersect the Antimeridian",
     "output_type": "error",
     "traceback": [
      "\u001b[31m---------------------------------------------------------------------------\u001b[39m",
      "\u001b[31mException\u001b[39m                                 Traceback (most recent call last)",
      "\u001b[36mCell\u001b[39m\u001b[36m \u001b[39m\u001b[32mIn[169]\u001b[39m\u001b[32m, line 10\u001b[39m\n\u001b[32m      1\u001b[39m \u001b[38;5;66;03m# Intersects the Antimeridan\u001b[39;00m\n\u001b[32m      2\u001b[39m \u001b[38;5;66;03m# Should fail\u001b[39;00m\n\u001b[32m      4\u001b[39m multiburst_dict = {\n\u001b[32m      5\u001b[39m     \u001b[33m\"\u001b[39m\u001b[33m001_000664\u001b[39m\u001b[33m\"\u001b[39m: (\u001b[33m\"\u001b[39m\u001b[33mIW1\u001b[39m\u001b[33m\"\u001b[39m, \u001b[33m\"\u001b[39m\u001b[33mIW2\u001b[39m\u001b[33m\"\u001b[39m, \u001b[33m\"\u001b[39m\u001b[33mIW3\u001b[39m\u001b[33m\"\u001b[39m),\n\u001b[32m      6\u001b[39m     \u001b[33m\"\u001b[39m\u001b[33m001_000665\u001b[39m\u001b[33m\"\u001b[39m: (\u001b[33m\"\u001b[39m\u001b[33mIW1\u001b[39m\u001b[33m\"\u001b[39m, \u001b[33m\"\u001b[39m\u001b[33mIW2\u001b[39m\u001b[33m\"\u001b[39m, \u001b[33m\"\u001b[39m\u001b[33mIW3\u001b[39m\u001b[33m\"\u001b[39m),\n\u001b[32m      7\u001b[39m     \u001b[33m\"\u001b[39m\u001b[33m001_000666\u001b[39m\u001b[33m\"\u001b[39m: (\u001b[33m\"\u001b[39m\u001b[33mIW1\u001b[39m\u001b[33m\"\u001b[39m, \u001b[33m\"\u001b[39m\u001b[33mIW2\u001b[39m\u001b[33m\"\u001b[39m, \u001b[33m\"\u001b[39m\u001b[33mIW3\u001b[39m\u001b[33m\"\u001b[39m)\n\u001b[32m      8\u001b[39m }\n\u001b[32m---> \u001b[39m\u001b[32m10\u001b[39m \u001b[43masf\u001b[49m\u001b[43m.\u001b[49m\u001b[43mMultiBurst\u001b[49m\u001b[43m(\u001b[49m\u001b[43mmultiburst_dict\u001b[49m\u001b[43m)\u001b[49m\n",
      "\u001b[36mFile \u001b[39m\u001b[32m<string>:4\u001b[39m, in \u001b[36m__init__\u001b[39m\u001b[34m(self, multiburst_dict)\u001b[39m\n",
      "\u001b[36mFile \u001b[39m\u001b[32m<string>:20\u001b[39m, in \u001b[36m_validate_multi_burst_dict\u001b[39m\u001b[34m(self)\u001b[39m\n",
      "\u001b[31mException\u001b[39m: No bursts can intersect the Antimeridian"
     ]
    }
   ],
   "source": [
    "\n",
    "# Intersects the Antimeridan\n",
    "# Should fail\n",
    "\n",
    "multiburst_dict = {\n",
    "    \"001_000664\": (\"IW1\", \"IW2\", \"IW3\"),\n",
    "    \"001_000665\": (\"IW1\", \"IW2\", \"IW3\"),\n",
    "    \"001_000666\": (\"IW1\", \"IW2\", \"IW3\")\n",
    "}\n",
    "\n",
    "asf.MultiBurst(multiburst_dict)"
   ]
  },
  {
   "cell_type": "code",
   "execution_count": 97,
   "id": "1f284a95",
   "metadata": {},
   "outputs": [
    {
     "name": "stdout",
     "output_type": "stream",
     "text": [
      "sentinel-1-global-coherence\n",
      "glo-30-hand\n"
     ]
    }
   ],
   "source": [
    "from pystac_client import Client\n",
    "\n",
    "catalog = Client.open(\"https://stac.asf.alaska.edu\")\n",
    "\n",
    "collections = catalog.get_collections()\n",
    "for col in collections:\n",
    "    print(col.id)\n",
    "\n",
    "\n",
    "\n"
   ]
  },
  {
   "cell_type": "code",
   "execution_count": 100,
   "id": "bd49b4de",
   "metadata": {},
   "outputs": [
    {
     "name": "stdout",
     "output_type": "stream",
     "text": [
      "{\"hits\":1,\"took\":9,\"items\":[{\"meta\":{\"revision-id\":2,\"deleted\":false,\"format\":\"application/vnd.nasa.cmr.umm+json\",\"provider-id\":\"ASF\",\"has-combine\":false,\"user-id\":\"mharbin\",\"has-formats\":false,\"has-spatial-subsetting\":false,\"native-id\":\"Sentinel-1_Burst_Map\",\"has-transforms\":false,\"has-variables\":false,\"concept-id\":\"C2450786986-ASF\",\"revision-date\":\"2024-10-24T16:24:48.764Z\",\"has-temporal-subsetting\":false,\"concept-type\":\"collection\"},\"umm\":{\"DataLanguage\":\"eng\",\"AdditionalAttributes\":[{\"Name\":\"ASCENDING_DESCENDING\",\"Description\":\"Describes whether the satellite travel direction was ascending towards the north pole, or descending towards the south pole.\",\"DataType\":\"STRING\"},{\"Name\":\"BURST_ID_FULL\",\"Description\":\"Unique burst identification generated by combining the PATH_NUMBER, BURST_ID_RELATIVE, and SUBSWATH_NAME (e.g. 002_002154_IW3).\",\"DataType\":\"STRING\"},{\"Name\":\"BURST_ID_RELATIVE\",\"Description\":\"Burst ID values assigned by ESA, each value identifies a burst cycle, within each sub-swath the burst ID values are unique.\",\"DataType\":\"INT\"},{\"Name\":\"CENTER_LAT\",\"Description\":\"Latitude of the center of the image.\",\"DataType\":\"FLOAT\"},{\"Name\":\"CENTER_LON\",\"Description\":\"Longitude of the center of the image.\",\"DataType\":\"FLOAT\"},{\"Name\":\"PATH_NUMBER\",\"Description\":\"The path describes a path the satellite will follow over the earth similar to longitude; each path has an assigned number. Combined with a frame number it identifies a specific piece of ground.\",\"DataType\":\"INT\"},{\"Name\":\"SUBSWATH_NAME\",\"Description\":\"Name of the subswath (e.g. for IW acquisition mode the possible values are IW1, IW2, IW3)\",\"DataType\":\"STRING\"},{\"Name\":\"TIME_FROM_ANX_SEC\",\"Description\":\"Time at the start of the burst, expressed in seconds elapsed from the ascending node crossing (ANX) of the path number.\",\"DataType\":\"FLOAT\",\"ParameterUnitsOfMeasure\":\"seconds\"}],\"SpatialExtent\":{\"SpatialCoverageType\":\"HORIZONTAL\",\"HorizontalSpatialDomain\":{\"Geometry\":{\"CoordinateSystem\":\"CARTESIAN\",\"BoundingRectangles\":[{\"NorthBoundingCoordinate\":90,\"WestBoundingCoordinate\":-180,\"EastBoundingCoordinate\":180,\"SouthBoundingCoordinate\":-90}]}},\"GranuleSpatialRepresentation\":\"GEODETIC\"},\"CollectionProgress\":\"COMPLETE\",\"ScienceKeywords\":[{\"Category\":\"EARTH SCIENCE\",\"Topic\":\"CRYOSPHERE\",\"Term\":\"GLACIERS/ICE SHEETS\"},{\"Category\":\"EARTH SCIENCE\",\"Topic\":\"LAND SURFACE\",\"Term\":\"GEOMORPHIC LANDFORMS/PROCESSES\"},{\"Category\":\"EARTH SCIENCE\",\"Topic\":\"OCEANS\",\"Term\":\"SEA ICE\"},{\"Category\":\"EARTH SCIENCE\",\"Topic\":\"SOLID EARTH\",\"Term\":\"GEOMORPHIC LANDFORMS/PROCESSES\"},{\"Category\":\"EARTH SCIENCE\",\"Topic\":\"SPECTRAL/ENGINEERING\",\"Term\":\"RADAR\"}],\"TemporalExtents\":[{\"SingleDateTimes\":[\"2022-05-30T00:00:00Z\"]}],\"ProcessingLevel\":{\"Id\":\"4\"},\"DOI\":{\"MissingReason\":\"Not Applicable\",\"Explanation\":\"The collection only contains metadata products, therefore, the collection was not assigned a DOI\"},\"ShortName\":\"Sentinel-1_Burst_Map\",\"EntryTitle\":\"Global Sentinel-1 Burst ID Map\",\"Quality\":\"This Burst ID map was created on 18-May-2022. The map was generated using the 12-day orbit cycle number 213, with first ascending node crossing time at 09-OCT-2020 18:00:37.932032. The Burst ID map was validated with respect to products belonging to the 12-day cycle starting at about 25-Feb-2022 18:00:00.  More exactly, the Burst ID maps were validated using all products from 25-Feb-2022 to 08-Mar-2022. The IW and the EW maps were validated separately. \\n\\nIn the validation, for each product, the annotation file of each swath was read to extract the timing information on each burst. To validate the Burst ID map over one burst, it is required to geocode six points along the border of the burst footprint: at near range, middle range, and far range, both at start time and stop time along azimuth. The range timings are computed from the values of RANK, PRI, SWST, SWL, and transmission pulse length. The SWST and SWL values are obtained from the swstList and swlList tags. Along azimuth, the value of the azimuthTime tag within the burst tag is used for the start time of each burst. The stop time is computed by adding to the start time the product of the linesPerBurst tag value time the azimuthTimeInterval tag value, in seconds. Eventually, each of the geocoded point obtained from the annotation files is coupled to the corresponding point from the Burst ID map. For each couple of points the absolute distance, the distance along range, and the distance along azimuth are computed. The results of the validation are as follows:. \\n\\nFor the IW Burst ID map (validation over 6600 products):\\n|       |Range [m]  |   Azimuth [m] |  Absolute [m] |\\n|-------|-----------|---------------|---------------|\\n| Max   |       633 |          2022 |          3190 |\\n| Min   |      -302 |         -3127 |             2 |\\n| Mean  |       196 |          -484 |           960 |\\n| STD   |        81 |           930 |           553 |\\n| MAD   |        53 |           758 |           452 |\\n\\nFor the EW Burst ID map (validation over 143 products):\\n|       | Range [m] |   Azimuth [m] |  Absolute [m] |\\n|-------|-----------|---------------|---------------|\\n| Max   |       522 |          1693 |          2707 |\\n| Min   |       -56 |         -2640 |            98 |\\n| Mean  |       249 |          -598 |           996 |\\n| STD   |        63 |           740 |           465 |\\n| MAD   |        43 |           599 |           374 |\\n\",\"MetadataLanguage\":\"eng\",\"RelatedUrls\":[{\"Description\":\"ASF data search and download interface\",\"URLContentType\":\"DistributionURL\",\"Type\":\"GET DATA\",\"URL\":\"https://search.asf.alaska.edu\",\"Subtype\":\"VERTEX\"},{\"Description\":\"Home page for the Alaska Satellite Facility (ASF) Synthetic Aperture Radar (SAR) Distributed Active Archive Center (DAAC)\",\"URLContentType\":\"DataCenterURL\",\"Type\":\"HOME PAGE\",\"URL\":\"https://www.asf.alaska.edu/\"},{\"URL\":\"https://earthdata.nasa.gov/data/catalog/alaska-satellite-facility-distributed-active-archive-center-sentinel-1-bursts-version/\",\"URLContentType\":\"CollectionURL\",\"Type\":\"DATA SET LANDING PAGE\"}],\"DataDates\":[{\"Type\":\"CREATE\",\"Date\":\"2022-04-14T00:00:00Z\"}],\"Abstract\":\"Sentinel-1 performs systematic acquisition of bursts in both IW and EW modes. The bursts overlap almost perfectly between different passes and are always located at the same place. With the deployment of the SAR processor S1-IPF 3.4, a new element has been added to the products annotations: the Burst ID, which should help the end user to identify a burst area of interest and facilitate searches. The Burst ID map is a complementary auxiliary product.  The maps have a validity that covers the entire time span of the mission and they are global, i.e., they include as well information where no SAR data is acquired. Each granule contains information about burst and sub-swath IDs, relative orbit and burst polygon, and should allow for an easier link between a certain burst ID in a product and its corresponding geographic location.\",\"MetadataDates\":[{\"Type\":\"CREATE\",\"Date\":\"2022-04-14T00:00:00Z\"},{\"Type\":\"UPDATE\",\"Date\":\"2022-04-14T00:00:00Z\"}],\"Version\":\"1\",\"UseConstraints\":{\"FreeAndOpenData\":true,\"LicenseURL\":{\"Name\":\"Sentinel Data Use Policy\",\"Linkage\":\"https://asf.alaska.edu/data-sets/sar-data-sets/sentinel-1/sentinel-1-terms-conditions/\",\"Description\":\"License URL for Sentinel data use policy\",\"MimeType\":\"text/html\"}},\"DataCenters\":[{\"Roles\":[\"ARCHIVER\"],\"ShortName\":\"ASF\",\"LongName\":\"Alaska Satellite Facility\",\"ContactInformation\":{\"RelatedUrls\":[{\"Description\":\"ASF data search and download interface\",\"URLContentType\":\"DistributionURL\",\"Type\":\"GET DATA\",\"URL\":\"https://search.asf.alaska.edu\",\"Subtype\":\"VERTEX\"},{\"Description\":\"Home page for the Alaska Satellite Facility (ASF) Synthetic Aperture Radar (SAR) Distributed Active Archive Center (DAAC)\",\"URLContentType\":\"DataCenterURL\",\"Type\":\"HOME PAGE\",\"URL\":\"https://www.asf.alaska.edu/\"}]}},{\"Roles\":[\"DISTRIBUTOR\"],\"ShortName\":\"ASF\",\"LongName\":\"Alaska Satellite Facility\",\"ContactInformation\":{\"RelatedUrls\":[{\"Description\":\"ASF data search and download interface\",\"URLContentType\":\"DistributionURL\",\"Type\":\"GET DATA\",\"URL\":\"https://search.asf.alaska.edu\",\"Subtype\":\"VERTEX\"},{\"Description\":\"Home page for the Alaska Satellite Facility (ASF) Synthetic Aperture Radar (SAR) Distributed Active Archive Center (DAAC)\",\"URLContentType\":\"DataCenterURL\",\"Type\":\"HOME PAGE\",\"URL\":\"https://www.asf.alaska.edu/\"}]}},{\"Roles\":[\"ORIGINATOR\"],\"ShortName\":\"ESA/CS1CGS\",\"LongName\":\"Copernicus S1 Core Ground Segment\"}],\"Platforms\":[{\"ShortName\":\"Sentinel-1A\",\"LongName\":\"Sentinel-1A\",\"Type\":\"Earth Observation Satellites\",\"Instruments\":[{\"ShortName\":\"C-SAR\",\"LongName\":\"C-Band Synthetic Aperture Radar\"}]},{\"ShortName\":\"Sentinel-1B\",\"LongName\":\"Sentinel-1B\",\"Type\":\"Earth Observation Satellites\",\"Instruments\":[{\"ShortName\":\"C-SAR\",\"LongName\":\"C-Band Synthetic Aperture Radar\"}]}],\"MetadataSpecification\":{\"URL\":\"https://cdn.earthdata.nasa.gov/umm/collection/v1.18.4\",\"Name\":\"UMM-C\",\"Version\":\"1.18.4\"}}}]}"
     ]
    }
   ],
   "source": [
    "!curl \"https://cmr.earthdata.nasa.gov/search/collections.umm_json?concept_id=C2450786986-ASF\"\n",
    "\n",
    "\n"
   ]
  },
  {
   "cell_type": "code",
   "execution_count": 106,
   "id": "143d1a02",
   "metadata": {},
   "outputs": [
    {
     "name": "stdout",
     "output_type": "stream",
     "text": [
      "{\"hits\":1,\"took\":46,\"items\":[{\"meta\":{\"concept-type\":\"granule\",\"concept-id\":\"G2452512306-ASF\",\"revision-id\":1,\"native-id\":\"S1_002_002149_IW3-BURSTMAP\",\"collection-concept-id\":\"C2450786986-ASF\",\"provider-id\":\"ASF\",\"format\":\"application/vnd.nasa.cmr.umm+json\",\"revision-date\":\"2022-09-13T19:34:45.598Z\"},\"umm\":{\"GranuleUR\":\"S1_002_002149_IW3-BURSTMAP\",\"ProviderDates\":[{\"Type\":\"Insert\",\"Date\":\"2022-09-13T19:34:45.000Z\"},{\"Type\":\"Update\",\"Date\":\"2022-09-13T19:34:45.000Z\"}],\"CollectionReference\":{\"ShortName\":\"Sentinel-1_Burst_Map\",\"Version\":\"1\"},\"MetadataSpecification\":{\"URL\":\"https://cdn.earthdata.nasa.gov/umm/granule/v1.6.6\",\"Name\":\"UMM-G\",\"Version\":\"1.6.6\"},\"SpatialExtent\":{\"HorizontalSpatialDomain\":{\"Geometry\":{\"GPolygons\":[{\"Boundary\":{\"Points\":[{\"Latitude\":1.207538,\"Longitude\":-19.833227},{\"Latitude\":1.281845,\"Longitude\":-19.473805},{\"Latitude\":1.353175,\"Longitude\":-19.128078},{\"Latitude\":1.557218,\"Longitude\":-19.170735},{\"Latitude\":1.481462,\"Longitude\":-19.515549},{\"Latitude\":1.402729,\"Longitude\":-19.874054},{\"Latitude\":1.207538,\"Longitude\":-19.833227}]}}]}}},\"AdditionalAttributes\":[{\"Name\":\"ASCENDING_DESCENDING\",\"Values\":[\"ASCENDING\"]},{\"Name\":\"BURST_ID_FULL\",\"Values\":[\"002_002149_IW3\"]},{\"Name\":\"BURST_ID_RELATIVE\",\"Values\":[\"2149\"]},{\"Name\":\"CENTER_LAT\",\"Values\":[\"1.3807339390095317\"]},{\"Name\":\"CENTER_LON\",\"Values\":[\"-19.49892532407622\"]},{\"Name\":\"PATH_NUMBER\",\"Values\":[\"2\"]},{\"Name\":\"SUBSWATH_NAME\",\"Values\":[\"IW3\"]},{\"Name\":\"TIME_FROM_ANX_SEC\",\"Values\":[\"4.410120992176417\"]}]}}]}"
     ]
    }
   ],
   "source": [
    "!curl \"https://cmr.earthdata.nasa.gov/search/granules.umm_json?collection_concept_id=C2450786986-ASF&granule_ur=S1_002_002149_IW3-BURSTMAP&page_size=1\"\n",
    "\n",
    "\n"
   ]
  },
  {
   "cell_type": "code",
   "execution_count": 166,
   "id": "d68a4d5c",
   "metadata": {},
   "outputs": [
    {
     "name": "stdout",
     "output_type": "stream",
     "text": [
      "{'hits': 1, 'took': 29, 'items': [{'meta': {'concept-type': 'granule', 'concept-id': 'G2452525133-ASF', 'revision-id': 1, 'native-id': 'S1_001_000664_IW2-BURSTMAP', 'collection-concept-id': 'C2450786986-ASF', 'provider-id': 'ASF', 'format': 'application/vnd.nasa.cmr.umm+json', 'revision-date': '2022-09-13T19:37:16.773Z'}, 'umm': {'GranuleUR': 'S1_001_000664_IW2-BURSTMAP', 'ProviderDates': [{'Type': 'Insert', 'Date': '2022-09-13T19:37:16.000Z'}, {'Type': 'Update', 'Date': '2022-09-13T19:37:16.000Z'}], 'CollectionReference': {'ShortName': 'Sentinel-1_Burst_Map', 'Version': '1'}, 'MetadataSpecification': {'URL': 'https://cdn.earthdata.nasa.gov/umm/granule/v1.6.6', 'Name': 'UMM-G', 'Version': '1.6.6'}, 'SpatialExtent': {'HorizontalSpatialDomain': {'Geometry': {'GPolygons': [{'Boundary': {'Points': [{'Latitude': 68.51138648783527, 'Longitude': 180.0}, {'Latitude': 68.51274055069817, 'Longitude': 180.0}, {'Latitude': 68.511441, 'Longitude': 179.999275}, {'Latitude': 68.51138648783527, 'Longitude': 180.0}]}}, {'Boundary': {'Points': [{'Latitude': 68.51274055069817, 'Longitude': -180.0}, {'Latitude': 68.51138648783527, 'Longitude': -180.0}, {'Latitude': 68.432384, 'Longitude': -178.949284}, {'Latitude': 68.34125, 'Longitude': -177.842456}, {'Latitude': 68.522544, 'Longitude': -177.723748}, {'Latitude': 68.618313, 'Longitude': -178.836769}, {'Latitude': 68.701939, 'Longitude': -179.894449}, {'Latitude': 68.51274055069817, 'Longitude': -180.0}]}}]}}}, 'AdditionalAttributes': [{'Name': 'ASCENDING_DESCENDING', 'Values': ['DESCENDING']}, {'Name': 'BURST_ID_FULL', 'Values': ['001_000664_IW2']}, {'Name': 'BURST_ID_RELATIVE', 'Values': ['664']}, {'Name': 'CENTER_LAT', 'Values': ['68.52184992501779']}, {'Name': 'CENTER_LON', 'Values': ['-178.87133491223798']}, {'Name': 'PATH_NUMBER', 'Values': ['1']}, {'Name': 'SUBSWATH_NAME', 'Values': ['IW2']}, {'Name': 'TIME_FROM_ANX_SEC', 'Values': ['1831.868183074777']}]}}]}\n"
     ]
    }
   ],
   "source": [
    "import requests\n",
    "\n",
    "collection_id = \"C2450786986-ASF\"\n",
    "granule_ur = \"S1_001_000664_IW2-BURSTMAP\"\n",
    "\n",
    "response = requests.get(\n",
    "    \"https://cmr.earthdata.nasa.gov/search/granules.umm_json\",\n",
    "    params={\n",
    "        \"collection_concept_id\": collection_id,\n",
    "        \"granule_ur\": granule_ur,\n",
    "        \"page_size\": 1\n",
    "    }\n",
    ")\n",
    "\n",
    "response.raise_for_status()  # Raises error if response isn't 200 OK\n",
    "\n",
    "data = response.json()\n",
    "\n",
    "print(data)\n"
   ]
  },
  {
   "cell_type": "code",
   "execution_count": 156,
   "id": "5c6dfe05",
   "metadata": {},
   "outputs": [
    {
     "name": "stdout",
     "output_type": "stream",
     "text": [
      "180.0\n",
      "180.0\n",
      "179.999275\n",
      "180.0\n"
     ]
    }
   ],
   "source": [
    "for point in data['items'][0]['umm']['SpatialExtent']['HorizontalSpatialDomain']['Geometry']['GPolygons'][0]['Boundary']['Points']:\n",
    "    print(point['Longitude'])"
   ]
  },
  {
   "cell_type": "code",
   "execution_count": null,
   "id": "fcc98cf6",
   "metadata": {},
   "outputs": [],
   "source": []
  },
  {
   "cell_type": "code",
   "execution_count": null,
   "id": "3ba9480f",
   "metadata": {},
   "outputs": [],
   "source": []
  },
  {
   "cell_type": "code",
   "execution_count": null,
   "id": "37be0f4a",
   "metadata": {},
   "outputs": [],
   "source": [
    "https://search.earthdata.nasa.gov/search/granules?p=C2450786986-ASF&pg[0][v]=f&pg[0][gsk]=-start_date&q=C2450786986-ASF&sb[0]=180%2C-33.1627%2C180%2C80.27418&tl=1653868800!1!!&lat=23.55574&long=180&zoom=2.9491955016352556"
   ]
  }
 ],
 "metadata": {
  "kernelspec": {
   "display_name": "asf_search_2",
   "language": "python",
   "name": "python3"
  },
  "language_info": {
   "codemirror_mode": {
    "name": "ipython",
    "version": 3
   },
   "file_extension": ".py",
   "mimetype": "text/x-python",
   "name": "python",
   "nbconvert_exporter": "python",
   "pygments_lexer": "ipython3",
   "version": "3.13.3"
  },
  "toc-autonumbering": false
 },
 "nbformat": 4,
 "nbformat_minor": 5
}
