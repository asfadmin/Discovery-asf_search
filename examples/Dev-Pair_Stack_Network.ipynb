{
 "cells": [
  {
   "cell_type": "code",
   "execution_count": null,
   "id": "7fa9e873",
   "metadata": {},
   "outputs": [],
   "source": [
    "%load_ext autoreload\n",
    "%autoreload 2"
   ]
  },
  {
   "cell_type": "code",
   "execution_count": null,
   "id": "52144455-af61-4f36-b35b-57a04683ebb1",
   "metadata": {
    "scrolled": true,
    "tags": []
   },
   "outputs": [],
   "source": [
    "import asf_search as asf\n",
    "import logging\n",
    "\n",
    "# asf.constants.INTERNAL.CMR_TIMEOUT = 90\n",
    "# asf.ASF_LOGGER.setLevel(logging.DEBUG)\n",
    "\n",
    "results = asf.product_search('S1A_IW_SLC__1SDV_20220215T225119_20220215T225146_041930_04FE2E_9252-SLC')\n",
    "# results = asf.product_search('S1_181296_IW1_20220219T125501_VV_10AF-BURST')\n",
    "reference = results[0]\n",
    "\n",
    "args = asf.ASFSearchOptions(\n",
    "    **{\"start\": '2022-02-10', \"end\": '2022-07-01'}\n",
    ")\n",
    "s = reference.stack(args)"
   ]
  },
  {
   "cell_type": "markdown",
   "id": "8a0920dc",
   "metadata": {},
   "source": [
    "### Create a Pair object from 2 products"
   ]
  },
  {
   "cell_type": "code",
   "execution_count": null,
   "id": "2b27e862",
   "metadata": {},
   "outputs": [],
   "source": [
    "pair = asf.Pair(reference, s[2])\n",
    "\n",
    "print(f\"pair.ref.properties['sceneName']: {pair.ref.properties['sceneName']}\")\n",
    "print(f\"pair.ref_date: {pair.ref_date}\\n\")\n",
    "\n",
    "print(f\"pair.sec.properties['sceneName']: {pair.sec.properties['sceneName']}\")\n",
    "print(f\"pair.sec_date: {pair.sec_date}\\n\")\n",
    "\n",
    "print(f\"pair.temporal: {pair.temporal}\")\n",
    "print(f\"pair.perpendicular: {pair.perpendicular}\")"
   ]
  },
  {
   "cell_type": "markdown",
   "id": "d599ee41",
   "metadata": {},
   "source": [
    "### Check the estimated coherence of the pair"
   ]
  },
  {
   "cell_type": "code",
   "execution_count": null,
   "id": "9b85de54",
   "metadata": {},
   "outputs": [],
   "source": [
    "pair.estimate_s1_mean_coherence()"
   ]
  },
  {
   "cell_type": "markdown",
   "id": "77bb1b26",
   "metadata": {},
   "source": [
    "### Create a new pair with a long temporal baseline"
   ]
  },
  {
   "cell_type": "code",
   "execution_count": null,
   "id": "1a0c0ca1",
   "metadata": {},
   "outputs": [],
   "source": [
    "long_pair = pair = asf.Pair(reference, s[10])\n",
    "print(f\"long_pair.temporal: {long_pair.temporal}\")"
   ]
  },
  {
   "cell_type": "markdown",
   "id": "2c266f26",
   "metadata": {},
   "source": [
    "### Since the temporal baseline is greater than 48, an exception is raised when checking coherence"
   ]
  },
  {
   "cell_type": "code",
   "execution_count": null,
   "id": "9d66a395",
   "metadata": {},
   "outputs": [],
   "source": [
    "long_pair.estimate_s1_mean_coherence()"
   ]
  },
  {
   "cell_type": "markdown",
   "id": "50c465f1",
   "metadata": {},
   "source": [
    "### Demonstrate pair equivalence\n",
    "\n",
    "Two pairs are equal if they both share the same reference and secondary dates."
   ]
  },
  {
   "cell_type": "code",
   "execution_count": null,
   "id": "5df76460",
   "metadata": {},
   "outputs": [],
   "source": [
    "from copy import deepcopy\n",
    "\n",
    "a = deepcopy(pair)\n",
    "b = deepcopy(pair)\n",
    "c = asf.Pair(reference, s[1])\n",
    "print(f\"a.ref_date: {a.ref_date}, a.sec_date: {a.sec_date}\")\n",
    "print(f\"b.ref_date: {b.ref_date}, b.sec_date: {b.sec_date}\")\n",
    "print(f\"c.ref_date: {c.ref_date}, c.sec_date: {c.sec_date}\")\n",
    "print(f\"a == b: {a == b}\")\n",
    "print(f\"a == c: {a == c}\")"
   ]
  },
  {
   "cell_type": "markdown",
   "id": "3fe746e6",
   "metadata": {},
   "source": [
    "# Stack\n",
    "\n",
    "### Create a Stack from the reference scene object instantiated above\n",
    "\n",
    "Stack accepts ASFSearchOptions, which are used in a stack_from_product search"
   ]
  },
  {
   "cell_type": "code",
   "execution_count": null,
   "id": "1c07d0c5",
   "metadata": {},
   "outputs": [],
   "source": [
    "args = asf.ASFSearchOptions(\n",
    "    **{\"start\": '2022-01-01', \"end\": '2022-03-02'}\n",
    ")\n",
    "\n",
    "stack = asf.Stack(reference, opts=args)\n",
    "stack.full_stack"
   ]
  },
  {
   "cell_type": "markdown",
   "id": "7e3373bf",
   "metadata": {},
   "source": [
    "### Remove pairs from the full stack, identifying them by ref and sec dates\n",
    "\n",
    "Both full_stack and subset_stack contain the same Pair objects, so keeping both stacks does not eat up a ton of extra memory"
   ]
  },
  {
   "cell_type": "code",
   "execution_count": null,
   "id": "eceba660",
   "metadata": {},
   "outputs": [],
   "source": [
    "import numpy as np\n",
    "import pandas as pd\n",
    "import datetime\n",
    "\n",
    "stack.remove_pairs([\n",
    "    (datetime.date(2022, 1, 10), datetime.date(2022, 1, 22)), # datetime.date\n",
    "    (pd.to_datetime(\"2022-1-10\"), pd.to_datetime(\"2022- 2-3\")), # pandas.Timestamp\n",
    "    (\"2022-01-10\", \"2022-02-15\"), # isoformat string\n",
    "    (np.datetime64(\"2022-01-10\"), np.datetime64(\"2022-02-27\")) # numpy.datetime64\n",
    "])\n",
    "\n",
    "stack.remove_list"
   ]
  },
  {
   "cell_type": "markdown",
   "id": "3b681d57",
   "metadata": {},
   "source": [
    "### Look at subset_stack, after having removed some pairs from full_stack"
   ]
  },
  {
   "cell_type": "code",
   "execution_count": null,
   "id": "35c504f2",
   "metadata": {},
   "outputs": [],
   "source": [
    "stack.subset_stack"
   ]
  },
  {
   "cell_type": "markdown",
   "id": "2e35ead5",
   "metadata": {},
   "source": [
    "### Look at connected_substacks\n",
    "\n",
    "If subset_stack is disconnected, its component stacks are stored in connected_substacks.\n",
    "\n",
    "Since we have not yet done anything to disconnect the subset_stack, this list contains only one item.\n",
    "\n",
    "When we use the Network class to make SBAS stacks, we may have multiple connected substacks.\n",
    "\n"
   ]
  },
  {
   "cell_type": "code",
   "execution_count": null,
   "id": "650e11a7",
   "metadata": {},
   "outputs": [],
   "source": [
    "stack.connected_substacks"
   ]
  },
  {
   "cell_type": "markdown",
   "id": "dd65a51b",
   "metadata": {},
   "source": [
    "## Network\n",
    "\n",
    "Create a Network from the same reference scene. \n",
    "\n",
    "Attempts to create a connected, seasonal SBAS stack based on:\n",
    "- georeference scene\n",
    "- season\n",
    "- start date\n",
    "- end date\n",
    "- perpendicular baseline\n",
    "- temporal baseline\n",
    "  "
   ]
  },
  {
   "cell_type": "code",
   "execution_count": null,
   "id": "916560c1",
   "metadata": {},
   "outputs": [],
   "source": [
    "import pandas as pd\n",
    "from datetime import datetime\n",
    "\n",
    "def get_julian_season(self) -> tuple[int,int]:\n",
    "    season_start_ts = pd.Timestamp(\n",
    "        datetime.strptime(f\"{season[0]}-0001\", \"%m-%d-%Y\"), tz=\"UTC\"\n",
    "        )\n",
    "    season_start_day = season_start_ts.timetuple().tm_yday\n",
    "    season_end_ts = pd.Timestamp(\n",
    "        datetime.strptime(f\"{season[1]}-0001\", \"%m-%d-%Y\"), tz=\"UTC\"\n",
    "    )\n",
    "    season_end_day = season_end_ts.timetuple().tm_yday\n",
    "    return (season_start_day, season_end_day)\n",
    "\n",
    "season = (\"1-1\", \"6-25\")\n",
    "\n",
    "opts = asf.ASFSearchOptions(\n",
    "    **{\n",
    "        \"start\": '2014-01-01', \n",
    "        \"end\": '2025-10-02', \n",
    "        \"season\": get_julian_season(season)\n",
    "        }\n",
    ")\n",
    "\n",
    "network = asf.Network(\n",
    "    geo_reference = reference,\n",
    "    perp_baseline=200, \n",
    "    inseason_temporal_baseline=12,\n",
    "    bridge_target_date='3-1',\n",
    "    bridge_year_threshold=2,\n",
    "    opts=opts)\n",
    "\n",
    "print(f\"len(network.full_stack): {len(network.full_stack)}\")\n",
    "print(f\"len(network.remove_list): {len(network.remove_list)}\")\n",
    "print(f\"len(network.subset_stack): {len(network.subset_stack)}\")\n",
    "print(f\"len(network.connected_substacks): {len(network.connected_substacks)}\")"
   ]
  },
  {
   "cell_type": "code",
   "execution_count": null,
   "id": "90d6a341",
   "metadata": {},
   "outputs": [],
   "source": [
    "network.plot()"
   ]
  },
  {
   "cell_type": "markdown",
   "id": "67eda901",
   "metadata": {},
   "source": [
    "### Create an updated network with shorter baselines"
   ]
  },
  {
   "cell_type": "code",
   "execution_count": null,
   "id": "eaa9f6ee",
   "metadata": {},
   "outputs": [],
   "source": [
    "network = asf.Network(\n",
    "    reference,\n",
    "    perp_baseline=50, \n",
    "    inseason_temporal_baseline=12,\n",
    "    bridge_target_date='3-1',\n",
    "    bridge_year_threshold=2,\n",
    "    opts=opts)\n",
    "\n",
    "network.plot()"
   ]
  },
  {
   "cell_type": "markdown",
   "id": "e3e9b132",
   "metadata": {},
   "source": [
    "### Create an updated network with longer baselines"
   ]
  },
  {
   "cell_type": "code",
   "execution_count": null,
   "id": "24d29dd9",
   "metadata": {},
   "outputs": [],
   "source": [
    "network = asf.Network(\n",
    "    reference,\n",
    "    perp_baseline=200, \n",
    "    inseason_temporal_baseline=24,\n",
    "    bridge_target_date='3-1',\n",
    "    bridge_year_threshold=2,\n",
    "    opts=opts)\n",
    "\n",
    "network.plot()"
   ]
  },
  {
   "cell_type": "markdown",
   "id": "7fb33cb4",
   "metadata": {},
   "source": [
    "### Plot full_stack\n",
    "\n",
    "You can pass an any member stack (or list of member stacks) to the plot function."
   ]
  },
  {
   "cell_type": "code",
   "execution_count": null,
   "id": "a9e24fae",
   "metadata": {},
   "outputs": [],
   "source": [
    "network.plot(stack_dict=network.full_stack)"
   ]
  },
  {
   "cell_type": "markdown",
   "id": "69b31dab",
   "metadata": {},
   "source": [
    "### Call `Stack.get_insar_pair_ids()` on the largest connected substack\n",
    "\n",
    "Provides the data structure you want when ordering GAMMA or single-burst interferograms from HyP3"
   ]
  },
  {
   "cell_type": "code",
   "execution_count": null,
   "id": "1e82dd24",
   "metadata": {
    "scrolled": true
   },
   "outputs": [],
   "source": [
    "network.get_insar_pair_ids()"
   ]
  },
  {
   "cell_type": "markdown",
   "id": "65285887",
   "metadata": {},
   "source": [
    "### `Stack.get_insar_pair_ids()` defaults to using the largest connected substack, but you can pass it any member stack"
   ]
  },
  {
   "cell_type": "code",
   "execution_count": null,
   "id": "d2c62c30",
   "metadata": {},
   "outputs": [],
   "source": [
    "print(len(network.get_insar_pair_ids()))\n",
    "print(len(network.get_insar_pair_ids(network.full_stack)))"
   ]
  },
  {
   "cell_type": "markdown",
   "id": "6ccf3283",
   "metadata": {},
   "source": [
    "### MultiBurst Class"
   ]
  },
  {
   "cell_type": "code",
   "execution_count": null,
   "id": "1a710e83",
   "metadata": {},
   "outputs": [],
   "source": [
    "# 3x3 adjactent bursts\n",
    "# Should pass\n",
    "\n",
    "multiburst_dict = {\n",
    "    \"173_370305\": (\"IW1\", \"IW2\", \"IW3\"),\n",
    "    \"173_370306\": (\"IW1\", \"IW2\", \"IW3\"),\n",
    "    \"173_370307\": (\"IW1\", \"IW2\", \"IW3\")\n",
    "}\n",
    "\n",
    "asf.MultiBurst(multiburst_dict)"
   ]
  },
  {
   "cell_type": "code",
   "execution_count": null,
   "id": "d609ba9e",
   "metadata": {},
   "outputs": [],
   "source": [
    "# 3x3 adjactent bursts, but crosses orbital paths\n",
    "# should fail\n",
    "\n",
    "multiburst_dict = {\n",
    "    \"173_370305\": (\"IW1\", \"IW2\", \"IW3\"),\n",
    "    \"173_370306\": (\"IW1\", \"IW2\", \"IW3\"),\n",
    "    \"100_213509\": (\"IW1\", \"IW2\", \"IW3\")\n",
    "}\n",
    "\n",
    "asf.MultiBurst(multiburst_dict)"
   ]
  },
  {
   "cell_type": "code",
   "execution_count": null,
   "id": "e31ea7ca",
   "metadata": {},
   "outputs": [],
   "source": [
    "# Contains disconnected bursts and a hole\n",
    "# Should fail\n",
    "\n",
    "multiburst_dict = {\n",
    "    \"173_370305\": (\"IW1\", \"IW2\",),\n",
    "    \"173_370306\": (\"IW1\", \"IW2\", \"IW3\"),\n",
    "    \"173_370307\": (\"IW1\", ),\n",
    "    \"173_370308\": ( \"IW3\",),\n",
    "    \"173_370309\": (\"IW1\", \"IW2\", \"IW3\"),\n",
    "    \"173_370310\": (\"IW1\", \"IW3\"),\n",
    "    \"173_370311\": (\"IW1\", \"IW2\", \"IW3\")\n",
    "}\n",
    "\n",
    "mb = asf.MultiBurst(multiburst_dict)"
   ]
  },
  {
   "cell_type": "code",
   "execution_count": null,
   "id": "e6b8dfa6",
   "metadata": {},
   "outputs": [],
   "source": [
    "# Diagonal line of bursts\n",
    "# Should pass\n",
    "\n",
    "multiburst_dict = {\n",
    "    \"173_370305\": (\"IW1\",),\n",
    "    \"173_370306\": (\"IW2\",),\n",
    "    \"173_370307\": (\"IW3\",),\n",
    "}\n",
    "\n",
    "asf.MultiBurst(multiburst_dict)\n"
   ]
  },
  {
   "cell_type": "code",
   "execution_count": null,
   "id": "3a5baa0b",
   "metadata": {},
   "outputs": [],
   "source": [
    "# \"Vertical\" zigzag line of bursts\n",
    "# Should pass (but will currently fail when ordering from HyP3)\n",
    "\n",
    "multiburst_dict = {\n",
    "    \"173_370305\": [\"IW1\"],\n",
    "    \"173_370306\": [\"IW2\"],\n",
    "    \"173_370307\": [\"IW1\"],\n",
    "}\n",
    "\n",
    "asf.MultiBurst(multiburst_dict)"
   ]
  },
  {
   "cell_type": "code",
   "execution_count": null,
   "id": "6b7d8d5a",
   "metadata": {},
   "outputs": [],
   "source": [
    "# \"Horizontal\" zigzag line of bursts\n",
    "# Should pass (but will currently fail when ordering from HyP3)\n",
    "\n",
    "multiburst_dict = {\n",
    "    \"173_370305\": (\"IW1\", \"IW3\"),\n",
    "    \"173_370306\": (\"IW2\",)\n",
    "}\n",
    "\n",
    "asf.MultiBurst(multiburst_dict)\n"
   ]
  },
  {
   "cell_type": "code",
   "execution_count": null,
   "id": "268b6d69",
   "metadata": {},
   "outputs": [],
   "source": [
    "\n",
    "# Intersects the Antimeridan\n",
    "# Should fail\n",
    "\n",
    "multiburst_dict = {\n",
    "    \"001_000664\": (\"IW1\", \"IW2\", \"IW3\"),\n",
    "    \"001_000665\": (\"IW1\", \"IW2\", \"IW3\"),\n",
    "    \"001_000666\": (\"IW1\", \"IW2\", \"IW3\")\n",
    "}\n",
    "\n",
    "asf.MultiBurst(multiburst_dict)"
   ]
  },
  {
   "cell_type": "markdown",
   "id": "9e8c85bd",
   "metadata": {},
   "source": [
    "### Multiburst Network"
   ]
  },
  {
   "cell_type": "code",
   "execution_count": null,
   "id": "562a63c1",
   "metadata": {},
   "outputs": [],
   "source": [
    "multiburst_dict = {\n",
    "    \"085_181296\": (\"IW1\", \"IW2\", \"IW3\"),\n",
    "    \"085_181297\": (\"IW1\", \"IW2\", \"IW3\"),\n",
    "    \"085_181298\": (\"IW1\", \"IW2\", \"IW3\")\n",
    "}\n",
    "\n",
    "multiburst_dict = {\n",
    "    \"085_181285\": (\"IW1\", \"IW2\", ),\n",
    "    \"085_181286\": (\"IW1\", \"IW2\", ),\n",
    "    \"085_181287\": (\"IW1\", \"IW2\", \"IW3\" )\n",
    "}\n",
    "\n",
    "# # will generate CMR search error\n",
    "# multiburst_dict = {\n",
    "#     \"093_197801\": (\"IW2\", \"IW3\", ),\n",
    "# }\n",
    "\n",
    "multiburst = asf.MultiBurst(multiburst_dict)"
   ]
  },
  {
   "cell_type": "code",
   "execution_count": null,
   "id": "29219d45",
   "metadata": {},
   "outputs": [],
   "source": [
    "import asf_search as asf\n",
    "import pandas as pd\n",
    "from datetime import datetime\n",
    "\n",
    "def get_julian_season(self) -> tuple[int,int]:\n",
    "    season_start_ts = pd.Timestamp(\n",
    "        datetime.strptime(f\"{season[0]}-0001\", \"%m-%d-%Y\"), tz=\"UTC\"\n",
    "        )\n",
    "    season_start_day = season_start_ts.timetuple().tm_yday\n",
    "    season_end_ts = pd.Timestamp(\n",
    "        datetime.strptime(f\"{season[1]}-0001\", \"%m-%d-%Y\"), tz=\"UTC\"\n",
    "    )\n",
    "    season_end_day = season_end_ts.timetuple().tm_yday\n",
    "    return (season_start_day, season_end_day)\n",
    "\n",
    "season = (\"1-1\", \"6-25\")\n",
    "\n",
    "opts = asf.ASFSearchOptions(\n",
    "    **{\n",
    "        \"start\": '2015-01-01', \n",
    "        # \"end\": '2016-05-02', \n",
    "        # \"start\": '2022-01-01',\n",
    "        \"end\": '2025-05-02', \n",
    "        \"season\": get_julian_season(season)\n",
    "        }\n",
    ")\n",
    "\n",
    "network = asf.Network(\n",
    "    multiburst = multiburst,\n",
    "    perp_baseline=400, \n",
    "    inseason_temporal_baseline=48,\n",
    "    bridge_target_date='3-1',\n",
    "    bridge_year_threshold=2,\n",
    "    opts=opts)\n",
    "\n",
    "print(f\"len(network.full_stack): {len(network.full_stack)}\")\n",
    "print(f\"len(network.remove_list): {len(network.remove_list)}\")\n",
    "print(f\"len(network.subset_stack): {len(network.subset_stack)}\")\n",
    "print(f\"len(network.connected_substacks): {len(network.connected_substacks)}\")"
   ]
  },
  {
   "cell_type": "code",
   "execution_count": null,
   "id": "0ff72de0",
   "metadata": {},
   "outputs": [],
   "source": [
    "network.plot()"
   ]
  },
  {
   "cell_type": "code",
   "execution_count": null,
   "id": "b15088c7",
   "metadata": {},
   "outputs": [],
   "source": [
    "for n in network.additional_multiburst_networks:\n",
    "    print(len(max(n.connected_substacks, key=len)))"
   ]
  },
  {
   "cell_type": "markdown",
   "id": "64563ae0-6dc8-47de-a270-b94264d715e3",
   "metadata": {},
   "source": [
    "# Force full connected stack"
   ]
  },
  {
   "cell_type": "code",
   "execution_count": null,
   "id": "329cc9ca-38e2-4f70-bed2-7b87badff8b8",
   "metadata": {},
   "outputs": [],
   "source": [
    "#Creating network with multiple stacks\n",
    "\n",
    "multiburst_dict = {\n",
    "    \"168_359019\": (\"IW3\",),\n",
    "    \"168_359018\": (\"IW3\",)\n",
    "}\n",
    "multiburst = asf.MultiBurst(multiburst_dict)\n",
    "\n",
    "opts = asf.ASFSearchOptions(\n",
    "    **{\n",
    "        \"start\": '2016-01-01',\n",
    "        \"end\": '2025-09-02', \n",
    "        }\n",
    ")\n",
    "\n",
    "network = asf.Network(\n",
    "    multiburst = multiburst,\n",
    "    perp_baseline=600, \n",
    "    inseason_temporal_baseline=60,\n",
    "    bridge_target_date='9-1',\n",
    "    bridge_year_threshold=1,\n",
    "    opts=opts)\n",
    "\n",
    "print(f\"len(network.full_stack): {len(network.full_stack)}\")\n",
    "print(f\"len(network.remove_list): {len(network.remove_list)}\")\n",
    "print(f\"len(network.subset_stack): {len(network.subset_stack)}\")\n",
    "print(f\"len(network.connected_substacks): {len(network.connected_substacks)}\")"
   ]
  },
  {
   "cell_type": "code",
   "execution_count": null,
   "id": "e77bb4d8-11a1-4410-81ba-dba760072789",
   "metadata": {},
   "outputs": [],
   "source": [
    "network.plot()"
   ]
  },
  {
   "cell_type": "markdown",
   "id": "31997cdd-0334-4e67-bc40-2dcf4d9a22fc",
   "metadata": {},
   "source": [
    "## Connecting the stacks"
   ]
  },
  {
   "cell_type": "code",
   "execution_count": null,
   "id": "2a40b5ed-1824-4e98-9232-1b7cce7a75f6",
   "metadata": {},
   "outputs": [],
   "source": [
    "network.connect_components()"
   ]
  },
  {
   "cell_type": "code",
   "execution_count": null,
   "id": "4c7a2817-3164-4a51-81a1-7997912261ec",
   "metadata": {},
   "outputs": [],
   "source": [
    "network.plot()"
   ]
  },
  {
   "cell_type": "code",
   "execution_count": null,
   "id": "bfbddfd5-2b53-4ddc-82d6-d8174280e1ad",
   "metadata": {},
   "outputs": [],
   "source": []
  }
 ],
 "metadata": {
  "kernelspec": {
   "display_name": "Python 3 (ipykernel)",
   "language": "python",
   "name": "python3"
  },
  "language_info": {
   "codemirror_mode": {
    "name": "ipython",
    "version": 3
   },
   "file_extension": ".py",
   "mimetype": "text/x-python",
   "name": "python",
   "nbconvert_exporter": "python",
   "pygments_lexer": "ipython3",
   "version": "3.11.13"
  },
  "toc-autonumbering": false
 },
 "nbformat": 4,
 "nbformat_minor": 5
}
